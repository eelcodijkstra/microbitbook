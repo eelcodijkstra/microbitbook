{
 "cells": [
  {
   "cell_type": "markdown",
   "id": "5d5835f3-f1b8-46bf-880b-fe316da2bee1",
   "metadata": {},
   "source": [
    "# Figuren met Graphviz"
   ]
  },
  {
   "cell_type": "code",
   "execution_count": 5,
   "id": "1dfe1e9f-a814-42e4-8aaa-abf12434d027",
   "metadata": {},
   "outputs": [],
   "source": [
    "%%bash\n",
    "\n",
    "echo 'digraph { a -> b }' | dot -Tsvg -Gfontcolor=red -Glabel=\"My favorite letters\" > test.svg"
   ]
  },
  {
   "cell_type": "code",
   "execution_count": 6,
   "id": "53e11b76-aec2-4032-91ad-92cbf7f01542",
   "metadata": {},
   "outputs": [
    {
     "data": {
      "image/svg+xml": [
       "<svg xmlns=\"http://www.w3.org/2000/svg\" xmlns:xlink=\"http://www.w3.org/1999/xlink\" width=\"127pt\" height=\"139pt\" viewBox=\"0.00 0.00 127.00 139.00\">\n",
       "<g id=\"graph0\" class=\"graph\" transform=\"scale(1 1) rotate(0) translate(4 135)\">\n",
       "<polygon fill=\"white\" stroke=\"none\" points=\"-4,4 -4,-135 123,-135 123,4 -4,4\"/>\n",
       "<text text-anchor=\"middle\" x=\"59.5\" y=\"-7.8\" font-family=\"Times,serif\" font-size=\"14.00\" fill=\"red\">My favorite letters</text>\n",
       "<!-- a -->\n",
       "<g id=\"node1\" class=\"node\">\n",
       "<title>a</title>\n",
       "<ellipse fill=\"none\" stroke=\"black\" cx=\"59.5\" cy=\"-113\" rx=\"27\" ry=\"18\"/>\n",
       "<text text-anchor=\"middle\" x=\"59.5\" y=\"-109.3\" font-family=\"Times,serif\" font-size=\"14.00\">a</text>\n",
       "</g>\n",
       "<!-- b -->\n",
       "<g id=\"node2\" class=\"node\">\n",
       "<title>b</title>\n",
       "<ellipse fill=\"none\" stroke=\"black\" cx=\"59.5\" cy=\"-41\" rx=\"27\" ry=\"18\"/>\n",
       "<text text-anchor=\"middle\" x=\"59.5\" y=\"-37.3\" font-family=\"Times,serif\" font-size=\"14.00\">b</text>\n",
       "</g>\n",
       "<!-- a&#45;&gt;b -->\n",
       "<g id=\"edge1\" class=\"edge\">\n",
       "<title>a-&gt;b</title>\n",
       "<path fill=\"none\" stroke=\"black\" d=\"M59.5,-94.7C59.5,-86.98 59.5,-77.71 59.5,-69.11\"/>\n",
       "<polygon fill=\"black\" stroke=\"black\" points=\"63,-69.1 59.5,-59.1 56,-69.1 63,-69.1\"/>\n",
       "</g>\n",
       "</g>\n",
       "</svg>"
      ],
      "text/plain": [
       "<IPython.core.display.SVG object>"
      ]
     },
     "metadata": {},
     "output_type": "display_data"
    }
   ],
   "source": [
    "from IPython.display import SVG, display\n",
    "from pathlib import Path\n",
    "\n",
    "txt = Path('test.svg').read_text()\n",
    "\n",
    "display(SVG(txt))"
   ]
  },
  {
   "cell_type": "code",
   "execution_count": 7,
   "id": "7bcedc37-0474-4f84-baea-2d0a87475e9a",
   "metadata": {},
   "outputs": [
    {
     "name": "stdout",
     "output_type": "stream",
     "text": [
      "hello world!\n"
     ]
    }
   ],
   "source": [
    "hello = 'hello'\n",
    "world = ' world!'\n",
    "\n",
    "!echo { hello + world }"
   ]
  },
  {
   "cell_type": "code",
   "execution_count": 8,
   "id": "ab1eb0b9-910f-43ca-81b8-0d53e0a9a612",
   "metadata": {},
   "outputs": [
    {
     "ename": "TypeError",
     "evalue": "a bytes-like object is required, not 'SList'",
     "output_type": "error",
     "traceback": [
      "\u001b[0;31m---------------------------------------------------------------------------\u001b[0m",
      "\u001b[0;31mTypeError\u001b[0m                                 Traceback (most recent call last)",
      "Input \u001b[0;32mIn [8]\u001b[0m, in \u001b[0;36m<cell line: 2>\u001b[0;34m()\u001b[0m\n\u001b[1;32m      1\u001b[0m fig \u001b[38;5;241m=\u001b[39m get_ipython()\u001b[38;5;241m.\u001b[39mgetoutput(\u001b[38;5;124m\"\u001b[39m\u001b[38;5;124mecho \u001b[39m\u001b[38;5;124m'\u001b[39m\u001b[38;5;124mdigraph \u001b[39m\u001b[38;5;124m{\u001b[39m\u001b[38;5;124m a -> b }\u001b[39m\u001b[38;5;124m'\u001b[39m\u001b[38;5;124m | dot -Tsvg\u001b[39m\u001b[38;5;124m\"\u001b[39m)\n\u001b[0;32m----> 2\u001b[0m display(\u001b[43mSVG\u001b[49m\u001b[43m(\u001b[49m\u001b[43mfig\u001b[49m\u001b[43m \u001b[49m\u001b[43m)\u001b[49m)\n",
      "File \u001b[0;32m~/opt/anaconda3/envs/jbooktest/lib/python3.10/site-packages/IPython/core/display.py:320\u001b[0m, in \u001b[0;36mDisplayObject.__init__\u001b[0;34m(self, data, url, filename, metadata)\u001b[0m\n\u001b[1;32m    316\u001b[0m \u001b[38;5;28mself\u001b[39m\u001b[38;5;241m.\u001b[39mfilename \u001b[38;5;241m=\u001b[39m filename\n\u001b[1;32m    317\u001b[0m \u001b[38;5;66;03m# because of @data.setter methods in\u001b[39;00m\n\u001b[1;32m    318\u001b[0m \u001b[38;5;66;03m# subclasses ensure url and filename are set\u001b[39;00m\n\u001b[1;32m    319\u001b[0m \u001b[38;5;66;03m# before assigning to self.data\u001b[39;00m\n\u001b[0;32m--> 320\u001b[0m \u001b[38;5;28mself\u001b[39m\u001b[38;5;241m.\u001b[39mdata \u001b[38;5;241m=\u001b[39m data\n\u001b[1;32m    322\u001b[0m \u001b[38;5;28;01mif\u001b[39;00m metadata \u001b[38;5;129;01mis\u001b[39;00m \u001b[38;5;129;01mnot\u001b[39;00m \u001b[38;5;28;01mNone\u001b[39;00m:\n\u001b[1;32m    323\u001b[0m     \u001b[38;5;28mself\u001b[39m\u001b[38;5;241m.\u001b[39mmetadata \u001b[38;5;241m=\u001b[39m metadata\n",
      "File \u001b[0;32m~/opt/anaconda3/envs/jbooktest/lib/python3.10/site-packages/IPython/core/display.py:479\u001b[0m, in \u001b[0;36mSVG.data\u001b[0;34m(self, svg)\u001b[0m\n\u001b[1;32m    477\u001b[0m \u001b[38;5;66;03m# parse into dom object\u001b[39;00m\n\u001b[1;32m    478\u001b[0m \u001b[38;5;28;01mfrom\u001b[39;00m \u001b[38;5;21;01mxml\u001b[39;00m\u001b[38;5;21;01m.\u001b[39;00m\u001b[38;5;21;01mdom\u001b[39;00m \u001b[38;5;28;01mimport\u001b[39;00m minidom\n\u001b[0;32m--> 479\u001b[0m x \u001b[38;5;241m=\u001b[39m \u001b[43mminidom\u001b[49m\u001b[38;5;241;43m.\u001b[39;49m\u001b[43mparseString\u001b[49m\u001b[43m(\u001b[49m\u001b[43msvg\u001b[49m\u001b[43m)\u001b[49m\n\u001b[1;32m    480\u001b[0m \u001b[38;5;66;03m# get svg tag (should be 1)\u001b[39;00m\n\u001b[1;32m    481\u001b[0m found_svg \u001b[38;5;241m=\u001b[39m x\u001b[38;5;241m.\u001b[39mgetElementsByTagName(\u001b[38;5;124m'\u001b[39m\u001b[38;5;124msvg\u001b[39m\u001b[38;5;124m'\u001b[39m)\n",
      "File \u001b[0;32m~/opt/anaconda3/envs/jbooktest/lib/python3.10/xml/dom/minidom.py:1998\u001b[0m, in \u001b[0;36mparseString\u001b[0;34m(string, parser)\u001b[0m\n\u001b[1;32m   1996\u001b[0m \u001b[38;5;28;01mif\u001b[39;00m parser \u001b[38;5;129;01mis\u001b[39;00m \u001b[38;5;28;01mNone\u001b[39;00m:\n\u001b[1;32m   1997\u001b[0m     \u001b[38;5;28;01mfrom\u001b[39;00m \u001b[38;5;21;01mxml\u001b[39;00m\u001b[38;5;21;01m.\u001b[39;00m\u001b[38;5;21;01mdom\u001b[39;00m \u001b[38;5;28;01mimport\u001b[39;00m expatbuilder\n\u001b[0;32m-> 1998\u001b[0m     \u001b[38;5;28;01mreturn\u001b[39;00m \u001b[43mexpatbuilder\u001b[49m\u001b[38;5;241;43m.\u001b[39;49m\u001b[43mparseString\u001b[49m\u001b[43m(\u001b[49m\u001b[43mstring\u001b[49m\u001b[43m)\u001b[49m\n\u001b[1;32m   1999\u001b[0m \u001b[38;5;28;01melse\u001b[39;00m:\n\u001b[1;32m   2000\u001b[0m     \u001b[38;5;28;01mfrom\u001b[39;00m \u001b[38;5;21;01mxml\u001b[39;00m\u001b[38;5;21;01m.\u001b[39;00m\u001b[38;5;21;01mdom\u001b[39;00m \u001b[38;5;28;01mimport\u001b[39;00m pulldom\n",
      "File \u001b[0;32m~/opt/anaconda3/envs/jbooktest/lib/python3.10/xml/dom/expatbuilder.py:925\u001b[0m, in \u001b[0;36mparseString\u001b[0;34m(string, namespaces)\u001b[0m\n\u001b[1;32m    923\u001b[0m \u001b[38;5;28;01melse\u001b[39;00m:\n\u001b[1;32m    924\u001b[0m     builder \u001b[38;5;241m=\u001b[39m ExpatBuilder()\n\u001b[0;32m--> 925\u001b[0m \u001b[38;5;28;01mreturn\u001b[39;00m \u001b[43mbuilder\u001b[49m\u001b[38;5;241;43m.\u001b[39;49m\u001b[43mparseString\u001b[49m\u001b[43m(\u001b[49m\u001b[43mstring\u001b[49m\u001b[43m)\u001b[49m\n",
      "File \u001b[0;32m~/opt/anaconda3/envs/jbooktest/lib/python3.10/xml/dom/expatbuilder.py:223\u001b[0m, in \u001b[0;36mExpatBuilder.parseString\u001b[0;34m(self, string)\u001b[0m\n\u001b[1;32m    221\u001b[0m parser \u001b[38;5;241m=\u001b[39m \u001b[38;5;28mself\u001b[39m\u001b[38;5;241m.\u001b[39mgetParser()\n\u001b[1;32m    222\u001b[0m \u001b[38;5;28;01mtry\u001b[39;00m:\n\u001b[0;32m--> 223\u001b[0m     \u001b[43mparser\u001b[49m\u001b[38;5;241;43m.\u001b[39;49m\u001b[43mParse\u001b[49m\u001b[43m(\u001b[49m\u001b[43mstring\u001b[49m\u001b[43m,\u001b[49m\u001b[43m \u001b[49m\u001b[38;5;28;43;01mTrue\u001b[39;49;00m\u001b[43m)\u001b[49m\n\u001b[1;32m    224\u001b[0m     \u001b[38;5;28mself\u001b[39m\u001b[38;5;241m.\u001b[39m_setup_subset(string)\n\u001b[1;32m    225\u001b[0m \u001b[38;5;28;01mexcept\u001b[39;00m ParseEscape:\n",
      "\u001b[0;31mTypeError\u001b[0m: a bytes-like object is required, not 'SList'"
     ]
    }
   ],
   "source": [
    "fig = !echo 'digraph { a -> b }' | dot -Tsvg \n",
    "display(SVG(fig ))"
   ]
  },
  {
   "cell_type": "code",
   "execution_count": null,
   "id": "0ac47b55-0808-4010-8d06-7ad128480ffe",
   "metadata": {},
   "outputs": [],
   "source": [
    "fig"
   ]
  },
  {
   "cell_type": "code",
   "execution_count": 9,
   "id": "f900a34b-0347-4e32-9edd-bf93a20c3b2e",
   "metadata": {},
   "outputs": [],
   "source": [
    "fig1 = '\\n'.join(fig)"
   ]
  },
  {
   "cell_type": "code",
   "execution_count": 10,
   "id": "1d1da96a-c980-4a2e-ad3b-cbe2895fae86",
   "metadata": {},
   "outputs": [
    {
     "data": {
      "image/svg+xml": [
       "<svg xmlns=\"http://www.w3.org/2000/svg\" xmlns:xlink=\"http://www.w3.org/1999/xlink\" width=\"62pt\" height=\"116pt\" viewBox=\"0.00 0.00 62.00 116.00\">\n",
       "<g id=\"graph0\" class=\"graph\" transform=\"scale(1 1) rotate(0) translate(4 112)\">\n",
       "<polygon fill=\"white\" stroke=\"none\" points=\"-4,4 -4,-112 58,-112 58,4 -4,4\"/>\n",
       "<!-- a -->\n",
       "<g id=\"node1\" class=\"node\">\n",
       "<title>a</title>\n",
       "<ellipse fill=\"none\" stroke=\"black\" cx=\"27\" cy=\"-90\" rx=\"27\" ry=\"18\"/>\n",
       "<text text-anchor=\"middle\" x=\"27\" y=\"-86.3\" font-family=\"Times,serif\" font-size=\"14.00\">a</text>\n",
       "</g>\n",
       "<!-- b -->\n",
       "<g id=\"node2\" class=\"node\">\n",
       "<title>b</title>\n",
       "<ellipse fill=\"none\" stroke=\"black\" cx=\"27\" cy=\"-18\" rx=\"27\" ry=\"18\"/>\n",
       "<text text-anchor=\"middle\" x=\"27\" y=\"-14.3\" font-family=\"Times,serif\" font-size=\"14.00\">b</text>\n",
       "</g>\n",
       "<!-- a&#45;&gt;b -->\n",
       "<g id=\"edge1\" class=\"edge\">\n",
       "<title>a-&gt;b</title>\n",
       "<path fill=\"none\" stroke=\"black\" d=\"M27,-71.7C27,-63.98 27,-54.71 27,-46.11\"/>\n",
       "<polygon fill=\"black\" stroke=\"black\" points=\"30.5,-46.1 27,-36.1 23.5,-46.1 30.5,-46.1\"/>\n",
       "</g>\n",
       "</g>\n",
       "</svg>"
      ],
      "text/plain": [
       "<IPython.core.display.SVG object>"
      ]
     },
     "metadata": {},
     "output_type": "display_data"
    }
   ],
   "source": [
    "display(SVG(fig1))"
   ]
  },
  {
   "cell_type": "code",
   "execution_count": 11,
   "id": "af59c9df-fd72-4f9c-aeed-705733f86d40",
   "metadata": {},
   "outputs": [
    {
     "data": {
      "text/plain": [
       "'<?xml version=\"1.0\" encoding=\"UTF-8\" standalone=\"no\"?>\\n<!DOCTYPE svg PUBLIC \"-//W3C//DTD SVG 1.1//EN\"\\n \"http://www.w3.org/Graphics/SVG/1.1/DTD/svg11.dtd\">\\n<!-- Generated by graphviz version 6.0.1 (20220911.1526)\\n -->\\n<!-- Pages: 1 -->\\n<svg width=\"62pt\" height=\"116pt\"\\n viewBox=\"0.00 0.00 62.00 116.00\" xmlns=\"http://www.w3.org/2000/svg\" xmlns:xlink=\"http://www.w3.org/1999/xlink\">\\n<g id=\"graph0\" class=\"graph\" transform=\"scale(1 1) rotate(0) translate(4 112)\">\\n<polygon fill=\"white\" stroke=\"none\" points=\"-4,4 -4,-112 58,-112 58,4 -4,4\"/>\\n<!-- a -->\\n<g id=\"node1\" class=\"node\">\\n<title>a</title>\\n<ellipse fill=\"none\" stroke=\"black\" cx=\"27\" cy=\"-90\" rx=\"27\" ry=\"18\"/>\\n<text text-anchor=\"middle\" x=\"27\" y=\"-86.3\" font-family=\"Times,serif\" font-size=\"14.00\">a</text>\\n</g>\\n<!-- b -->\\n<g id=\"node2\" class=\"node\">\\n<title>b</title>\\n<ellipse fill=\"none\" stroke=\"black\" cx=\"27\" cy=\"-18\" rx=\"27\" ry=\"18\"/>\\n<text text-anchor=\"middle\" x=\"27\" y=\"-14.3\" font-family=\"Times,serif\" font-size=\"14.00\">b</text>\\n</g>\\n<!-- a&#45;&gt;b -->\\n<g id=\"edge1\" class=\"edge\">\\n<title>a&#45;&gt;b</title>\\n<path fill=\"none\" stroke=\"black\" d=\"M27,-71.7C27,-63.98 27,-54.71 27,-46.11\"/>\\n<polygon fill=\"black\" stroke=\"black\" points=\"30.5,-46.1 27,-36.1 23.5,-46.1 30.5,-46.1\"/>\\n</g>\\n</g>\\n</svg>'"
      ]
     },
     "metadata": {},
     "output_type": "display_data"
    }
   ],
   "source": [
    "display(fig1)"
   ]
  },
  {
   "cell_type": "code",
   "execution_count": 12,
   "id": "095d95bf-cef3-4a44-b624-2de3d7e5f50c",
   "metadata": {},
   "outputs": [
    {
     "data": {
      "text/plain": [
       "'<?xml version=\"1.0\" encoding=\"UTF-8\" standalone=\"no\"?>\\n<!DOCTYPE svg PUBLIC \"-//W3C//DTD SVG 1.1//EN\"\\n \"http://www.w3.org/Graphics/SVG/1.1/DTD/svg11.dtd\">\\n<!-- Generated by graphviz version 6.0.1 (20220911.1526)\\n -->\\n<!-- Pages: 1 -->\\n<svg width=\"127pt\" height=\"139pt\"\\n viewBox=\"0.00 0.00 127.00 139.00\" xmlns=\"http://www.w3.org/2000/svg\" xmlns:xlink=\"http://www.w3.org/1999/xlink\">\\n<g id=\"graph0\" class=\"graph\" transform=\"scale(1 1) rotate(0) translate(4 135)\">\\n<polygon fill=\"white\" stroke=\"none\" points=\"-4,4 -4,-135 123,-135 123,4 -4,4\"/>\\n<text text-anchor=\"middle\" x=\"59.5\" y=\"-7.8\" font-family=\"Times,serif\" font-size=\"14.00\" fill=\"red\">My favorite letters</text>\\n<!-- a -->\\n<g id=\"node1\" class=\"node\">\\n<title>a</title>\\n<ellipse fill=\"none\" stroke=\"black\" cx=\"59.5\" cy=\"-113\" rx=\"27\" ry=\"18\"/>\\n<text text-anchor=\"middle\" x=\"59.5\" y=\"-109.3\" font-family=\"Times,serif\" font-size=\"14.00\">a</text>\\n</g>\\n<!-- b -->\\n<g id=\"node2\" class=\"node\">\\n<title>b</title>\\n<ellipse fill=\"none\" stroke=\"black\" cx=\"59.5\" cy=\"-41\" rx=\"27\" ry=\"18\"/>\\n<text text-anchor=\"middle\" x=\"59.5\" y=\"-37.3\" font-family=\"Times,serif\" font-size=\"14.00\">b</text>\\n</g>\\n<!-- a&#45;&gt;b -->\\n<g id=\"edge1\" class=\"edge\">\\n<title>a&#45;&gt;b</title>\\n<path fill=\"none\" stroke=\"black\" d=\"M59.5,-94.7C59.5,-86.98 59.5,-77.71 59.5,-69.11\"/>\\n<polygon fill=\"black\" stroke=\"black\" points=\"63,-69.1 59.5,-59.1 56,-69.1 63,-69.1\"/>\\n</g>\\n</g>\\n</svg>\\n'"
      ]
     },
     "execution_count": 12,
     "metadata": {},
     "output_type": "execute_result"
    }
   ],
   "source": [
    "txt"
   ]
  },
  {
   "cell_type": "markdown",
   "id": "78342550-d1b2-4acc-8f40-729f07f951cb",
   "metadata": {},
   "source": [
    "```\n",
    "digraph finite_state_machine {\n",
    "    rankdir=LR;\n",
    "    size=\"8,5\"\n",
    "\n",
    "    node [shape = doublecircle]; S;\n",
    "    node [shape = point ]; qi\n",
    "\n",
    "    node [shape = circle];\n",
    "    qi -> S;\n",
    "    S  -> q1 [ label = \"a\" ];\n",
    "    S  -> S  [ label = \"a\" ];\n",
    "    q1 -> S  [ label = \"a\" ];\n",
    "    q1 -> q2 [ label = \"b\" ];\n",
    "    q2 -> q1 [ label = \"b\" ];\n",
    "    q2 -> q2 [ label = \"b\" ];\n",
    "}\n",
    "```"
   ]
  },
  {
   "cell_type": "markdown",
   "id": "ef77e2bd-fea7-4a0c-bc5e-7f570eea9bbd",
   "metadata": {},
   "source": [
    "```\n",
    "dot -Tpng fsm.gv -o myFiniteStateMachine.png\n",
    "```"
   ]
  },
  {
   "cell_type": "code",
   "execution_count": 25,
   "id": "6651633d-20ce-4b23-9170-ec9c455aefb6",
   "metadata": {},
   "outputs": [],
   "source": [
    "digraph = '''\n",
    "digraph finite_state_machine {\n",
    "    rankdir=LR;\n",
    "    size=\"8,5\"\n",
    "\n",
    "    node [shape = doublecircle]; S;\n",
    "    node [shape = point ]; qi\n",
    "\n",
    "    node [shape = circle];\n",
    "    qi -> S;\n",
    "    S  -> q1 [ label = \"a\" ];\n",
    "    S  -> S  [ label = \"a\" ];\n",
    "    q1 -> S  [ label = \"a\" ];\n",
    "    q1 -> q2 [ label = \"b\" ];\n",
    "    q2 -> q1 [ label = \"b\" ];\n",
    "    q2 -> q2 [ label = \"b\" ];\n",
    "}\n",
    "'''"
   ]
  },
  {
   "cell_type": "code",
   "execution_count": 26,
   "id": "6c2645ae-c6e3-4253-9579-942a810d08c6",
   "metadata": {},
   "outputs": [
    {
     "data": {
      "text/plain": [
       "'\\ndigraph finite_state_machine {\\n    rankdir=LR;\\n    size=\"8,5\"\\n\\n    node [shape = doublecircle]; S;\\n    node [shape = point ]; qi\\n\\n    node [shape = circle];\\n    qi -> S;\\n    S  -> q1 [ label = \"a\" ];\\n    S  -> S  [ label = \"a\" ];\\n    q1 -> S  [ label = \"a\" ];\\n    q1 -> q2 [ label = \"b\" ];\\n    q2 -> q1 [ label = \"b\" ];\\n    q2 -> q2 [ label = \"b\" ];\\n}\\n'"
      ]
     },
     "execution_count": 26,
     "metadata": {},
     "output_type": "execute_result"
    }
   ],
   "source": [
    "digraph"
   ]
  },
  {
   "cell_type": "code",
   "execution_count": 27,
   "id": "f6a36568-fdca-4e85-88a6-3dd281a02597",
   "metadata": {},
   "outputs": [
    {
     "data": {
      "image/svg+xml": [
       "<svg xmlns=\"http://www.w3.org/2000/svg\" xmlns:xlink=\"http://www.w3.org/1999/xlink\" width=\"257pt\" height=\"85pt\" viewBox=\"0.00 0.00 256.59 85.00\">\n",
       "<g id=\"graph0\" class=\"graph\" transform=\"scale(1 1) rotate(0) translate(4 81)\">\n",
       "<title>finite_state_machine</title>\n",
       "<polygon fill=\"white\" stroke=\"none\" points=\"-4,4 -4,-81 252.59,-81 252.59,4 -4,4\"/>\n",
       "<!-- S -->\n",
       "<g id=\"node1\" class=\"node\">\n",
       "<title>S</title>\n",
       "<ellipse fill=\"none\" stroke=\"black\" cx=\"62.6\" cy=\"-22\" rx=\"18\" ry=\"18\"/>\n",
       "<ellipse fill=\"none\" stroke=\"black\" cx=\"62.6\" cy=\"-22\" rx=\"22\" ry=\"22\"/>\n",
       "<text text-anchor=\"middle\" x=\"62.6\" y=\"-18.3\" font-family=\"Times,serif\" font-size=\"14.00\">S</text>\n",
       "</g>\n",
       "<!-- S&#45;&gt;S -->\n",
       "<g id=\"edge3\" class=\"edge\">\n",
       "<title>S-&gt;S</title>\n",
       "<path fill=\"none\" stroke=\"black\" d=\"M55.19,-42.99C54.28,-53.09 56.75,-62 62.6,-62 66.35,-62 68.71,-58.34 69.68,-53.06\"/>\n",
       "<polygon fill=\"black\" stroke=\"black\" points=\"73.18,-53.1 70.01,-42.99 66.19,-52.87 73.18,-53.1\"/>\n",
       "<text text-anchor=\"middle\" x=\"62.6\" y=\"-65.8\" font-family=\"Times,serif\" font-size=\"14.00\">a</text>\n",
       "</g>\n",
       "<!-- q1 -->\n",
       "<g id=\"node3\" class=\"node\">\n",
       "<title>q1</title>\n",
       "<ellipse fill=\"none\" stroke=\"black\" cx=\"147.1\" cy=\"-22\" rx=\"19.5\" ry=\"19.5\"/>\n",
       "<text text-anchor=\"middle\" x=\"147.1\" y=\"-18.3\" font-family=\"Times,serif\" font-size=\"14.00\">q1</text>\n",
       "</g>\n",
       "<!-- S&#45;&gt;q1 -->\n",
       "<g id=\"edge2\" class=\"edge\">\n",
       "<title>S-&gt;q1</title>\n",
       "<path fill=\"none\" stroke=\"black\" d=\"M84.85,-22C94.73,-22 106.63,-22 117.31,-22\"/>\n",
       "<polygon fill=\"black\" stroke=\"black\" points=\"117.45,-25.5 127.45,-22 117.45,-18.5 117.45,-25.5\"/>\n",
       "<text text-anchor=\"middle\" x=\"106.1\" y=\"-25.8\" font-family=\"Times,serif\" font-size=\"14.00\">a</text>\n",
       "</g>\n",
       "<!-- qi -->\n",
       "<g id=\"node2\" class=\"node\">\n",
       "<title>qi</title>\n",
       "<ellipse fill=\"black\" stroke=\"black\" cx=\"1.8\" cy=\"-22\" rx=\"1.8\" ry=\"1.8\"/>\n",
       "</g>\n",
       "<!-- qi&#45;&gt;S -->\n",
       "<g id=\"edge1\" class=\"edge\">\n",
       "<title>qi-&gt;S</title>\n",
       "<path fill=\"none\" stroke=\"black\" d=\"M3.82,-22C7.19,-22 18.44,-22 30.12,-22\"/>\n",
       "<polygon fill=\"black\" stroke=\"black\" points=\"30.31,-25.5 40.31,-22 30.31,-18.5 30.31,-25.5\"/>\n",
       "</g>\n",
       "<!-- q1&#45;&gt;S -->\n",
       "<g id=\"edge4\" class=\"edge\">\n",
       "<title>q1-&gt;S</title>\n",
       "<path fill=\"none\" stroke=\"black\" d=\"M130.41,-11.73C124.19,-8.23 116.82,-4.77 109.6,-3 103.1,-1.41 96.32,-2.52 90.03,-4.84\"/>\n",
       "<polygon fill=\"black\" stroke=\"black\" points=\"88.2,-1.84 80.66,-9.28 91.19,-8.17 88.2,-1.84\"/>\n",
       "<text text-anchor=\"middle\" x=\"106.1\" y=\"-6.8\" font-family=\"Times,serif\" font-size=\"14.00\">a</text>\n",
       "</g>\n",
       "<!-- q2 -->\n",
       "<g id=\"node4\" class=\"node\">\n",
       "<title>q2</title>\n",
       "<ellipse fill=\"none\" stroke=\"black\" cx=\"229.09\" cy=\"-22\" rx=\"19.5\" ry=\"19.5\"/>\n",
       "<text text-anchor=\"middle\" x=\"229.09\" y=\"-18.3\" font-family=\"Times,serif\" font-size=\"14.00\">q2</text>\n",
       "</g>\n",
       "<!-- q1&#45;&gt;q2 -->\n",
       "<g id=\"edge5\" class=\"edge\">\n",
       "<title>q1-&gt;q2</title>\n",
       "<path fill=\"none\" stroke=\"black\" d=\"M166.65,-22C176.28,-22 188.25,-22 199.07,-22\"/>\n",
       "<polygon fill=\"black\" stroke=\"black\" points=\"199.36,-25.5 209.36,-22 199.36,-18.5 199.36,-25.5\"/>\n",
       "<text text-anchor=\"middle\" x=\"188.1\" y=\"-25.8\" font-family=\"Times,serif\" font-size=\"14.00\">b</text>\n",
       "</g>\n",
       "<!-- q2&#45;&gt;q1 -->\n",
       "<g id=\"edge6\" class=\"edge\">\n",
       "<title>q2-&gt;q1</title>\n",
       "<path fill=\"none\" stroke=\"black\" d=\"M213.24,-10.12C205.04,-4.95 194.52,-0.57 184.6,-3 180.65,-3.97 176.66,-5.44 172.83,-7.15\"/>\n",
       "<polygon fill=\"black\" stroke=\"black\" points=\"171.13,-4.09 163.79,-11.73 174.29,-10.33 171.13,-4.09\"/>\n",
       "<text text-anchor=\"middle\" x=\"188.1\" y=\"-6.8\" font-family=\"Times,serif\" font-size=\"14.00\">b</text>\n",
       "</g>\n",
       "<!-- q2&#45;&gt;q2 -->\n",
       "<g id=\"edge7\" class=\"edge\">\n",
       "<title>q2-&gt;q2</title>\n",
       "<path fill=\"none\" stroke=\"black\" d=\"M221.78,-40.13C220.41,-50.22 222.85,-59.5 229.09,-59.5 233.1,-59.5 235.54,-55.69 236.41,-50.3\"/>\n",
       "<polygon fill=\"black\" stroke=\"black\" points=\"239.91,-50.14 236.41,-40.13 232.91,-50.13 239.91,-50.14\"/>\n",
       "<text text-anchor=\"middle\" x=\"229.09\" y=\"-63.3\" font-family=\"Times,serif\" font-size=\"14.00\">b</text>\n",
       "</g>\n",
       "</g>\n",
       "</svg>"
      ],
      "text/plain": [
       "<IPython.core.display.SVG object>"
      ]
     },
     "metadata": {},
     "output_type": "display_data"
    }
   ],
   "source": [
    "fig2 = !echo '{digraph}' | dot -Tsvg \n",
    "display(SVG('\\n'.join(fig2)))"
   ]
  },
  {
   "cell_type": "code",
   "execution_count": 58,
   "id": "3d90c0e0-46dd-4624-affb-7a64d3a6fa9d",
   "metadata": {},
   "outputs": [],
   "source": [
    "!echo '{digraph}' > digraph.dot"
   ]
  },
  {
   "cell_type": "code",
   "execution_count": 59,
   "id": "79f8a8a5-f394-45fc-a456-c939c4db048c",
   "metadata": {},
   "outputs": [
    {
     "name": "stdout",
     "output_type": "stream",
     "text": [
      "\u001b[34m_build\u001b[m\u001b[m                   glossary.md              requirements.txt\n",
      "_config.yml              hello-world.md           schakelaar.md\n",
      "\u001b[34m_static\u001b[m\u001b[m                  input-output-systemen.md stemmen.md\n",
      "_toc.yml                 intro.md                 stopwatch.md\n",
      "automaten.md             kloppend-hart.md         teller.md\n",
      "buttons-events.md        laden.md                 test.svg\n",
      "digraph.dot              logo.png                 timers.md\n",
      "digraph.png              microbit-cheatsheet.md   valdetectie.md\n",
      "events-signalen.md       microbit-kennismaking.md verkeerslichten.md\n",
      "\u001b[34mext\u001b[m\u001b[m                      mu-editor.md             voordedocent.md\n",
      "\u001b[34mfigs\u001b[m\u001b[m                     python.md\n",
      "figuren.ipynb            references.bib\n"
     ]
    }
   ],
   "source": [
    "!ls"
   ]
  },
  {
   "cell_type": "code",
   "execution_count": 60,
   "id": "f91f8ac4-0d17-4e83-a4c0-69ef409d5bdf",
   "metadata": {},
   "outputs": [],
   "source": [
    "res = !dot -Tsvg digraph.dot"
   ]
  },
  {
   "cell_type": "code",
   "execution_count": 61,
   "id": "9c2b4fa4-77d9-4d38-8011-67839f849758",
   "metadata": {},
   "outputs": [
    {
     "data": {
      "image/svg+xml": [
       "<svg xmlns=\"http://www.w3.org/2000/svg\" xmlns:xlink=\"http://www.w3.org/1999/xlink\" width=\"257pt\" height=\"85pt\" viewBox=\"0.00 0.00 256.59 85.00\">\n",
       "<g id=\"graph0\" class=\"graph\" transform=\"scale(1 1) rotate(0) translate(4 81)\">\n",
       "<title>finite_state_machine</title>\n",
       "<polygon fill=\"white\" stroke=\"none\" points=\"-4,4 -4,-81 252.59,-81 252.59,4 -4,4\"/>\n",
       "<!-- S -->\n",
       "<g id=\"node1\" class=\"node\">\n",
       "<title>S</title>\n",
       "<ellipse fill=\"none\" stroke=\"black\" cx=\"62.6\" cy=\"-22\" rx=\"18\" ry=\"18\"/>\n",
       "<ellipse fill=\"none\" stroke=\"black\" cx=\"62.6\" cy=\"-22\" rx=\"22\" ry=\"22\"/>\n",
       "<text text-anchor=\"middle\" x=\"62.6\" y=\"-18.3\" font-family=\"Times,serif\" font-size=\"14.00\">S</text>\n",
       "</g>\n",
       "<!-- S&#45;&gt;S -->\n",
       "<g id=\"edge3\" class=\"edge\">\n",
       "<title>S-&gt;S</title>\n",
       "<path fill=\"none\" stroke=\"black\" d=\"M55.19,-42.99C54.28,-53.09 56.75,-62 62.6,-62 66.35,-62 68.71,-58.34 69.68,-53.06\"/>\n",
       "<polygon fill=\"black\" stroke=\"black\" points=\"73.18,-53.1 70.01,-42.99 66.19,-52.87 73.18,-53.1\"/>\n",
       "<text text-anchor=\"middle\" x=\"62.6\" y=\"-65.8\" font-family=\"Times,serif\" font-size=\"14.00\">a</text>\n",
       "</g>\n",
       "<!-- q1 -->\n",
       "<g id=\"node3\" class=\"node\">\n",
       "<title>q1</title>\n",
       "<ellipse fill=\"none\" stroke=\"black\" cx=\"147.1\" cy=\"-22\" rx=\"19.5\" ry=\"19.5\"/>\n",
       "<text text-anchor=\"middle\" x=\"147.1\" y=\"-18.3\" font-family=\"Times,serif\" font-size=\"14.00\">q1</text>\n",
       "</g>\n",
       "<!-- S&#45;&gt;q1 -->\n",
       "<g id=\"edge2\" class=\"edge\">\n",
       "<title>S-&gt;q1</title>\n",
       "<path fill=\"none\" stroke=\"black\" d=\"M84.85,-22C94.73,-22 106.63,-22 117.31,-22\"/>\n",
       "<polygon fill=\"black\" stroke=\"black\" points=\"117.45,-25.5 127.45,-22 117.45,-18.5 117.45,-25.5\"/>\n",
       "<text text-anchor=\"middle\" x=\"106.1\" y=\"-25.8\" font-family=\"Times,serif\" font-size=\"14.00\">a</text>\n",
       "</g>\n",
       "<!-- qi -->\n",
       "<g id=\"node2\" class=\"node\">\n",
       "<title>qi</title>\n",
       "<ellipse fill=\"black\" stroke=\"black\" cx=\"1.8\" cy=\"-22\" rx=\"1.8\" ry=\"1.8\"/>\n",
       "</g>\n",
       "<!-- qi&#45;&gt;S -->\n",
       "<g id=\"edge1\" class=\"edge\">\n",
       "<title>qi-&gt;S</title>\n",
       "<path fill=\"none\" stroke=\"black\" d=\"M3.82,-22C7.19,-22 18.44,-22 30.12,-22\"/>\n",
       "<polygon fill=\"black\" stroke=\"black\" points=\"30.31,-25.5 40.31,-22 30.31,-18.5 30.31,-25.5\"/>\n",
       "</g>\n",
       "<!-- q1&#45;&gt;S -->\n",
       "<g id=\"edge4\" class=\"edge\">\n",
       "<title>q1-&gt;S</title>\n",
       "<path fill=\"none\" stroke=\"black\" d=\"M130.41,-11.73C124.19,-8.23 116.82,-4.77 109.6,-3 103.1,-1.41 96.32,-2.52 90.03,-4.84\"/>\n",
       "<polygon fill=\"black\" stroke=\"black\" points=\"88.2,-1.84 80.66,-9.28 91.19,-8.17 88.2,-1.84\"/>\n",
       "<text text-anchor=\"middle\" x=\"106.1\" y=\"-6.8\" font-family=\"Times,serif\" font-size=\"14.00\">a</text>\n",
       "</g>\n",
       "<!-- q2 -->\n",
       "<g id=\"node4\" class=\"node\">\n",
       "<title>q2</title>\n",
       "<ellipse fill=\"none\" stroke=\"black\" cx=\"229.09\" cy=\"-22\" rx=\"19.5\" ry=\"19.5\"/>\n",
       "<text text-anchor=\"middle\" x=\"229.09\" y=\"-18.3\" font-family=\"Times,serif\" font-size=\"14.00\">q2</text>\n",
       "</g>\n",
       "<!-- q1&#45;&gt;q2 -->\n",
       "<g id=\"edge5\" class=\"edge\">\n",
       "<title>q1-&gt;q2</title>\n",
       "<path fill=\"none\" stroke=\"black\" d=\"M166.65,-22C176.28,-22 188.25,-22 199.07,-22\"/>\n",
       "<polygon fill=\"black\" stroke=\"black\" points=\"199.36,-25.5 209.36,-22 199.36,-18.5 199.36,-25.5\"/>\n",
       "<text text-anchor=\"middle\" x=\"188.1\" y=\"-25.8\" font-family=\"Times,serif\" font-size=\"14.00\">b</text>\n",
       "</g>\n",
       "<!-- q2&#45;&gt;q1 -->\n",
       "<g id=\"edge6\" class=\"edge\">\n",
       "<title>q2-&gt;q1</title>\n",
       "<path fill=\"none\" stroke=\"black\" d=\"M213.24,-10.12C205.04,-4.95 194.52,-0.57 184.6,-3 180.65,-3.97 176.66,-5.44 172.83,-7.15\"/>\n",
       "<polygon fill=\"black\" stroke=\"black\" points=\"171.13,-4.09 163.79,-11.73 174.29,-10.33 171.13,-4.09\"/>\n",
       "<text text-anchor=\"middle\" x=\"188.1\" y=\"-6.8\" font-family=\"Times,serif\" font-size=\"14.00\">b</text>\n",
       "</g>\n",
       "<!-- q2&#45;&gt;q2 -->\n",
       "<g id=\"edge7\" class=\"edge\">\n",
       "<title>q2-&gt;q2</title>\n",
       "<path fill=\"none\" stroke=\"black\" d=\"M221.78,-40.13C220.41,-50.22 222.85,-59.5 229.09,-59.5 233.1,-59.5 235.54,-55.69 236.41,-50.3\"/>\n",
       "<polygon fill=\"black\" stroke=\"black\" points=\"239.91,-50.14 236.41,-40.13 232.91,-50.13 239.91,-50.14\"/>\n",
       "<text text-anchor=\"middle\" x=\"229.09\" y=\"-63.3\" font-family=\"Times,serif\" font-size=\"14.00\">b</text>\n",
       "</g>\n",
       "</g>\n",
       "</svg>"
      ],
      "text/plain": [
       "<IPython.core.display.SVG object>"
      ]
     },
     "metadata": {},
     "output_type": "display_data"
    }
   ],
   "source": [
    "display(SVG('\\n'.join(res)))"
   ]
  },
  {
   "cell_type": "code",
   "execution_count": 62,
   "id": "d9553269-b24f-45f5-8b5a-95d040f5a596",
   "metadata": {},
   "outputs": [
    {
     "name": "stdout",
     "output_type": "stream",
     "text": [
      "\n",
      "digraph finite_state_machine {\n",
      "    rankdir=LR;\n",
      "    size=\"8,5\"\n",
      "\n",
      "    node [shape = doublecircle]; S;\n",
      "    node [shape = point ]; qi\n",
      "\n",
      "    node [shape = circle];\n",
      "    qi -> S;\n",
      "    S  -> q1 [ label = \"a\" ];\n",
      "    S  -> S  [ label = \"a\" ];\n",
      "    q1 -> S  [ label = \"a\" ];\n",
      "    q1 -> q2 [ label = \"b\" ];\n",
      "    q2 -> q1 [ label = \"b\" ];\n",
      "    q2 -> q2 [ label = \"b\" ];\n",
      "}\n",
      "\n"
     ]
    }
   ],
   "source": [
    "!cat digraph.dot"
   ]
  },
  {
   "cell_type": "code",
   "execution_count": 64,
   "id": "3ec2d434-a83e-4a4e-9d8d-a06400e73ebc",
   "metadata": {},
   "outputs": [
    {
     "data": {
      "image/png": "[encoded data removed]",
      "text/plain": [
       "<IPython.core.display.Image object>"
      ]
     },
     "metadata": {},
     "output_type": "display_data"
    }
   ],
   "source": [
    "from IPython.display import Image\n",
    "!echo '{digraph}' | dot -Tpng > digraph.png\n",
    "display(Image(filename='digraph.png'))"
   ]
  },
  {
   "cell_type": "markdown",
   "id": "ad9a0d55-9dc4-4fbf-b2cc-650c436fe81e",
   "metadata": {},
   "source": [
    "PNG-uitvoer kan niet zomaar verwerkt worden in \"display\". Hiervoor moet eigenlijk een tussen-bestand gebruikt worden, zoals in dit voorbeeld."
   ]
  },
  {
   "cell_type": "code",
   "execution_count": 148,
   "id": "d2f5d613-738b-4887-9261-5cbcc0bde3c3",
   "metadata": {},
   "outputs": [],
   "source": [
    "digraph1 = '''\n",
    "digraph finite_state_machine {\n",
    "    rankdir=LR;\n",
    "    size=\"8,5\"\n",
    "    fontname=\"Gill Sans\"\n",
    "    label=\"Test\"\n",
    "\n",
    "    node [shape = circle fontname=\"Gill Sans\"]; s0;\n",
    "    node [shape = point ]; qi\n",
    "\n",
    "    node [shape = circle; fontname=\"Gill Sans\"];\n",
    "    qi -> s0;\n",
    "    s0  -> s1  [ fontname=\"Gill Sans\" label = \"a/L1\" ];\n",
    "    s1  -> s2  [ fontname=\"Gill Sans\" label = \"a/L2\" ];\n",
    "    s2  -> s3  [ fontname=\"Gill Sans\" label = \"a/L3\" ];\n",
    "    s3  -> s0  [ fontname=\"Gill Sans\" label = \"a/L0\" ];\n",
    "}\n",
    "'''"
   ]
  },
  {
   "cell_type": "code",
   "execution_count": 149,
   "id": "b47331e6-df1a-4acf-a24a-3b9360828982",
   "metadata": {},
   "outputs": [],
   "source": [
    "fig3 = !echo '{digraph1}' | dot -Tsvg"
   ]
  },
  {
   "cell_type": "code",
   "execution_count": 150,
   "id": "3f2fd673-20ea-462a-8eaa-0993a6827a4e",
   "metadata": {},
   "outputs": [
    {
     "data": {
      "text/plain": [
       "['<?xml version=\"1.0\" encoding=\"UTF-8\" standalone=\"no\"?>',\n",
       " '<!DOCTYPE svg PUBLIC \"-//W3C//DTD SVG 1.1//EN\"',\n",
       " ' \"http://www.w3.org/Graphics/SVG/1.1/DTD/svg11.dtd\">',\n",
       " '<!-- Generated by graphviz version 6.0.1 (20220911.1526)',\n",
       " ' -->',\n",
       " '<!-- Title: finite_state_machine Pages: 1 -->',\n",
       " '<svg width=\"379pt\" height=\"100pt\"',\n",
       " ' viewBox=\"0.00 0.00 379.39 99.70\" xmlns=\"http://www.w3.org/2000/svg\" xmlns:xlink=\"http://www.w3.org/1999/xlink\">',\n",
       " '<g id=\"graph0\" class=\"graph\" transform=\"scale(1 1) rotate(0) translate(4 95.7)\">',\n",
       " '<title>finite_state_machine</title>',\n",
       " '<polygon fill=\"white\" stroke=\"none\" points=\"-4,4 -4,-95.7 375.39,-95.7 375.39,4 -4,4\"/>',\n",
       " '<text text-anchor=\"middle\" x=\"185.69\" y=\"-7.8\" font-family=\"Gill Sans\" font-size=\"14.00\">Test</text>',\n",
       " '<!-- s0 -->',\n",
       " '<g id=\"node1\" class=\"node\">',\n",
       " '<title>s0</title>',\n",
       " '<ellipse fill=\"none\" stroke=\"black\" cx=\"59.45\" cy=\"-41.85\" rx=\"18.7\" ry=\"18.7\"/>',\n",
       " '<text text-anchor=\"middle\" x=\"59.45\" y=\"-38.15\" font-family=\"Gill Sans\" font-size=\"14.00\">s0</text>',\n",
       " '</g>',\n",
       " '<!-- s1 -->',\n",
       " '<g id=\"node3\" class=\"node\">',\n",
       " '<title>s1</title>',\n",
       " '<ellipse fill=\"none\" stroke=\"black\" cx=\"157.14\" cy=\"-72.85\" rx=\"18.7\" ry=\"18.7\"/>',\n",
       " '<text text-anchor=\"middle\" x=\"157.14\" y=\"-69.15\" font-family=\"Gill Sans\" font-size=\"14.00\">s1</text>',\n",
       " '</g>',\n",
       " '<!-- s0&#45;&gt;s1 -->',\n",
       " '<g id=\"edge2\" class=\"edge\">',\n",
       " '<title>s0&#45;&gt;s1</title>',\n",
       " '<path fill=\"none\" stroke=\"black\" d=\"M77.56,-47.39C91.89,-52.03 112.61,-58.75 129.18,-64.11\"/>',\n",
       " '<polygon fill=\"black\" stroke=\"black\" points=\"128.27,-67.5 138.86,-67.25 130.43,-60.84 128.27,-67.5\"/>',\n",
       " '<text text-anchor=\"middle\" x=\"108.3\" y=\"-65.65\" font-family=\"Gill Sans\" font-size=\"14.00\">a/L1</text>',\n",
       " '</g>',\n",
       " '<!-- qi -->',\n",
       " '<g id=\"node2\" class=\"node\">',\n",
       " '<title>qi</title>',\n",
       " '<ellipse fill=\"black\" stroke=\"black\" cx=\"1.8\" cy=\"-41.85\" rx=\"1.8\" ry=\"1.8\"/>',\n",
       " '</g>',\n",
       " '<!-- qi&#45;&gt;s0 -->',\n",
       " '<g id=\"edge1\" class=\"edge\">',\n",
       " '<title>qi&#45;&gt;s0</title>',\n",
       " '<path fill=\"none\" stroke=\"black\" d=\"M3.77,-41.85C7.14,-41.85 18.81,-41.85 30.51,-41.85\"/>',\n",
       " '<polygon fill=\"black\" stroke=\"black\" points=\"30.6,-45.35 40.6,-41.85 30.6,-38.35 30.6,-45.35\"/>',\n",
       " '</g>',\n",
       " '<!-- s2 -->',\n",
       " '<g id=\"node4\" class=\"node\">',\n",
       " '<title>s2</title>',\n",
       " '<ellipse fill=\"none\" stroke=\"black\" cx=\"254.84\" cy=\"-72.85\" rx=\"18.7\" ry=\"18.7\"/>',\n",
       " '<text text-anchor=\"middle\" x=\"254.84\" y=\"-69.15\" font-family=\"Gill Sans\" font-size=\"14.00\">s2</text>',\n",
       " '</g>',\n",
       " '<!-- s1&#45;&gt;s2 -->',\n",
       " '<g id=\"edge3\" class=\"edge\">',\n",
       " '<title>s1&#45;&gt;s2</title>',\n",
       " '<path fill=\"none\" stroke=\"black\" d=\"M176.14,-72.85C190.05,-72.85 209.54,-72.85 225.53,-72.85\"/>',\n",
       " '<polygon fill=\"black\" stroke=\"black\" points=\"225.92,-76.35 235.92,-72.85 225.92,-69.35 225.92,-76.35\"/>',\n",
       " '<text text-anchor=\"middle\" x=\"205.99\" y=\"-76.65\" font-family=\"Gill Sans\" font-size=\"14.00\">a/L2</text>',\n",
       " '</g>',\n",
       " '<!-- s3 -->',\n",
       " '<g id=\"node5\" class=\"node\">',\n",
       " '<title>s3</title>',\n",
       " '<ellipse fill=\"none\" stroke=\"black\" cx=\"352.54\" cy=\"-41.85\" rx=\"18.7\" ry=\"18.7\"/>',\n",
       " '<text text-anchor=\"middle\" x=\"352.54\" y=\"-38.15\" font-family=\"Gill Sans\" font-size=\"14.00\">s3</text>',\n",
       " '</g>',\n",
       " '<!-- s2&#45;&gt;s3 -->',\n",
       " '<g id=\"edge4\" class=\"edge\">',\n",
       " '<title>s2&#45;&gt;s3</title>',\n",
       " '<path fill=\"none\" stroke=\"black\" d=\"M272.95,-67.31C287.29,-62.66 308.01,-55.95 324.57,-50.58\"/>',\n",
       " '<polygon fill=\"black\" stroke=\"black\" points=\"325.82,-53.86 334.26,-47.45 323.66,-47.2 325.82,-53.86\"/>',\n",
       " '<text text-anchor=\"middle\" x=\"303.69\" y=\"-65.65\" font-family=\"Gill Sans\" font-size=\"14.00\">a/L3</text>',\n",
       " '</g>',\n",
       " '<!-- s3&#45;&gt;s0 -->',\n",
       " '<g id=\"edge5\" class=\"edge\">',\n",
       " '<title>s3&#45;&gt;s0</title>',\n",
       " '<path fill=\"none\" stroke=\"black\" d=\"M333.34,-41.85C284.13,-41.85 148.19,-41.85 88.81,-41.85\"/>',\n",
       " '<polygon fill=\"black\" stroke=\"black\" points=\"88.66,-38.35 78.66,-41.85 88.66,-45.35 88.66,-38.35\"/>',\n",
       " '<text text-anchor=\"middle\" x=\"205.99\" y=\"-45.65\" font-family=\"Gill Sans\" font-size=\"14.00\">a/L0</text>',\n",
       " '</g>',\n",
       " '</g>',\n",
       " '</svg>']"
      ]
     },
     "execution_count": 150,
     "metadata": {},
     "output_type": "execute_result"
    }
   ],
   "source": [
    "fig3"
   ]
  },
  {
   "cell_type": "code",
   "execution_count": 151,
   "id": "74a11e66-262c-4125-82e5-6436fbc89e38",
   "metadata": {},
   "outputs": [
    {
     "data": {
      "image/svg+xml": [
       "<svg xmlns=\"http://www.w3.org/2000/svg\" xmlns:xlink=\"http://www.w3.org/1999/xlink\" width=\"379pt\" height=\"100pt\" viewBox=\"0.00 0.00 379.39 99.70\">\n",
       "<g id=\"graph0\" class=\"graph\" transform=\"scale(1 1) rotate(0) translate(4 95.7)\">\n",
       "<title>finite_state_machine</title>\n",
       "<polygon fill=\"white\" stroke=\"none\" points=\"-4,4 -4,-95.7 375.39,-95.7 375.39,4 -4,4\"/>\n",
       "<text text-anchor=\"middle\" x=\"185.69\" y=\"-7.8\" font-family=\"Gill Sans\" font-size=\"14.00\">Test</text>\n",
       "<!-- s0 -->\n",
       "<g id=\"node1\" class=\"node\">\n",
       "<title>s0</title>\n",
       "<ellipse fill=\"none\" stroke=\"black\" cx=\"59.45\" cy=\"-41.85\" rx=\"18.7\" ry=\"18.7\"/>\n",
       "<text text-anchor=\"middle\" x=\"59.45\" y=\"-38.15\" font-family=\"Gill Sans\" font-size=\"14.00\">s0</text>\n",
       "</g>\n",
       "<!-- s1 -->\n",
       "<g id=\"node3\" class=\"node\">\n",
       "<title>s1</title>\n",
       "<ellipse fill=\"none\" stroke=\"black\" cx=\"157.14\" cy=\"-72.85\" rx=\"18.7\" ry=\"18.7\"/>\n",
       "<text text-anchor=\"middle\" x=\"157.14\" y=\"-69.15\" font-family=\"Gill Sans\" font-size=\"14.00\">s1</text>\n",
       "</g>\n",
       "<!-- s0&#45;&gt;s1 -->\n",
       "<g id=\"edge2\" class=\"edge\">\n",
       "<title>s0-&gt;s1</title>\n",
       "<path fill=\"none\" stroke=\"black\" d=\"M77.56,-47.39C91.89,-52.03 112.61,-58.75 129.18,-64.11\"/>\n",
       "<polygon fill=\"black\" stroke=\"black\" points=\"128.27,-67.5 138.86,-67.25 130.43,-60.84 128.27,-67.5\"/>\n",
       "<text text-anchor=\"middle\" x=\"108.3\" y=\"-65.65\" font-family=\"Gill Sans\" font-size=\"14.00\">a/L1</text>\n",
       "</g>\n",
       "<!-- qi -->\n",
       "<g id=\"node2\" class=\"node\">\n",
       "<title>qi</title>\n",
       "<ellipse fill=\"black\" stroke=\"black\" cx=\"1.8\" cy=\"-41.85\" rx=\"1.8\" ry=\"1.8\"/>\n",
       "</g>\n",
       "<!-- qi&#45;&gt;s0 -->\n",
       "<g id=\"edge1\" class=\"edge\">\n",
       "<title>qi-&gt;s0</title>\n",
       "<path fill=\"none\" stroke=\"black\" d=\"M3.77,-41.85C7.14,-41.85 18.81,-41.85 30.51,-41.85\"/>\n",
       "<polygon fill=\"black\" stroke=\"black\" points=\"30.6,-45.35 40.6,-41.85 30.6,-38.35 30.6,-45.35\"/>\n",
       "</g>\n",
       "<!-- s2 -->\n",
       "<g id=\"node4\" class=\"node\">\n",
       "<title>s2</title>\n",
       "<ellipse fill=\"none\" stroke=\"black\" cx=\"254.84\" cy=\"-72.85\" rx=\"18.7\" ry=\"18.7\"/>\n",
       "<text text-anchor=\"middle\" x=\"254.84\" y=\"-69.15\" font-family=\"Gill Sans\" font-size=\"14.00\">s2</text>\n",
       "</g>\n",
       "<!-- s1&#45;&gt;s2 -->\n",
       "<g id=\"edge3\" class=\"edge\">\n",
       "<title>s1-&gt;s2</title>\n",
       "<path fill=\"none\" stroke=\"black\" d=\"M176.14,-72.85C190.05,-72.85 209.54,-72.85 225.53,-72.85\"/>\n",
       "<polygon fill=\"black\" stroke=\"black\" points=\"225.92,-76.35 235.92,-72.85 225.92,-69.35 225.92,-76.35\"/>\n",
       "<text text-anchor=\"middle\" x=\"205.99\" y=\"-76.65\" font-family=\"Gill Sans\" font-size=\"14.00\">a/L2</text>\n",
       "</g>\n",
       "<!-- s3 -->\n",
       "<g id=\"node5\" class=\"node\">\n",
       "<title>s3</title>\n",
       "<ellipse fill=\"none\" stroke=\"black\" cx=\"352.54\" cy=\"-41.85\" rx=\"18.7\" ry=\"18.7\"/>\n",
       "<text text-anchor=\"middle\" x=\"352.54\" y=\"-38.15\" font-family=\"Gill Sans\" font-size=\"14.00\">s3</text>\n",
       "</g>\n",
       "<!-- s2&#45;&gt;s3 -->\n",
       "<g id=\"edge4\" class=\"edge\">\n",
       "<title>s2-&gt;s3</title>\n",
       "<path fill=\"none\" stroke=\"black\" d=\"M272.95,-67.31C287.29,-62.66 308.01,-55.95 324.57,-50.58\"/>\n",
       "<polygon fill=\"black\" stroke=\"black\" points=\"325.82,-53.86 334.26,-47.45 323.66,-47.2 325.82,-53.86\"/>\n",
       "<text text-anchor=\"middle\" x=\"303.69\" y=\"-65.65\" font-family=\"Gill Sans\" font-size=\"14.00\">a/L3</text>\n",
       "</g>\n",
       "<!-- s3&#45;&gt;s0 -->\n",
       "<g id=\"edge5\" class=\"edge\">\n",
       "<title>s3-&gt;s0</title>\n",
       "<path fill=\"none\" stroke=\"black\" d=\"M333.34,-41.85C284.13,-41.85 148.19,-41.85 88.81,-41.85\"/>\n",
       "<polygon fill=\"black\" stroke=\"black\" points=\"88.66,-38.35 78.66,-41.85 88.66,-45.35 88.66,-38.35\"/>\n",
       "<text text-anchor=\"middle\" x=\"205.99\" y=\"-45.65\" font-family=\"Gill Sans\" font-size=\"14.00\">a/L0</text>\n",
       "</g>\n",
       "</g>\n",
       "</svg>"
      ],
      "text/plain": [
       "<IPython.core.display.SVG object>"
      ]
     },
     "metadata": {},
     "output_type": "display_data"
    }
   ],
   "source": [
    "display(SVG('\\n'.join(fig3)))"
   ]
  },
  {
   "cell_type": "markdown",
   "id": "e037df4a-ece5-4d08-b2de-8254bca22d47",
   "metadata": {
    "tags": []
   },
   "source": [
    "Ik vind persoonlijk deze layout minder fraai; maar ik weet niet wat ik daaraan kan aanpassen."
   ]
  },
  {
   "cell_type": "markdown",
   "id": "9b02f284-7fe1-4972-942e-3767da2f8941",
   "metadata": {},
   "source": [
    "Als (schreefloos) font is \"Gill Sans\" duidelijk te prefereren (minder massief) boven Arial of Helvetica."
   ]
  },
  {
   "cell_type": "markdown",
   "id": "cdf2baad-3672-49f7-97cf-24a927498dba",
   "metadata": {},
   "source": [
    "## Codeslot-automaat"
   ]
  },
  {
   "cell_type": "code",
   "execution_count": 187,
   "id": "506378e2-45bf-4ce8-8537-915e7b4e1306",
   "metadata": {},
   "outputs": [],
   "source": [
    "digraphcs = '''\n",
    "digraph codeslot {\n",
    "    rankdir=LR;\n",
    "    size=\"8,5\"\n",
    "\n",
    "    node [shape = doublecircle]; 0;\n",
    "    node [shape = point ]; qi\n",
    "\n",
    "    node [shape = circle];\n",
    "    qi -> 0;\n",
    "    0 ->  1 [ label = \"b\" ];\n",
    "    1 ->  2 [ label = \"a\" ];\n",
    "    2 ->  3 [ label = \"b\" ];\n",
    "    3 ->  4 [ label = \"b/unlock\" ];\n",
    "    0 ->  0  [ label = \"a,S\" ];\n",
    "    1 ->  0  [ label = \"b,S\" ];\n",
    "    2 ->  0  [ label = \"a,S\" ];    \n",
    "    3 ->  0  [ label = \"a,S\" ];\n",
    "    4 ->  0  [ label = \"a,b,S/reset\" ];\n",
    "}\n",
    "'''"
   ]
  },
  {
   "cell_type": "code",
   "execution_count": 188,
   "id": "eb3d67c5-02ca-47c6-abf0-7d353a9a6364",
   "metadata": {},
   "outputs": [
    {
     "data": {
      "image/svg+xml": [
       "<svg xmlns=\"http://www.w3.org/2000/svg\" xmlns:xlink=\"http://www.w3.org/1999/xlink\" width=\"495pt\" height=\"168pt\" viewBox=\"0.00 0.00 494.60 168.00\">\n",
       "<g id=\"graph0\" class=\"graph\" transform=\"scale(1 1) rotate(0) translate(4 164)\">\n",
       "<title>codeslot</title>\n",
       "<polygon fill=\"white\" stroke=\"none\" points=\"-4,4 -4,-164 490.6,-164 490.6,4 -4,4\"/>\n",
       "<!-- 0 -->\n",
       "<g id=\"node1\" class=\"node\">\n",
       "<title>0</title>\n",
       "<ellipse fill=\"none\" stroke=\"black\" cx=\"62.6\" cy=\"-91\" rx=\"18\" ry=\"18\"/>\n",
       "<ellipse fill=\"none\" stroke=\"black\" cx=\"62.6\" cy=\"-91\" rx=\"22\" ry=\"22\"/>\n",
       "<text text-anchor=\"middle\" x=\"62.6\" y=\"-87.3\" font-family=\"Times,serif\" font-size=\"14.00\">0</text>\n",
       "</g>\n",
       "<!-- 0&#45;&gt;0 -->\n",
       "<g id=\"edge6\" class=\"edge\">\n",
       "<title>0-&gt;0</title>\n",
       "<path fill=\"none\" stroke=\"black\" d=\"M55.19,-111.99C54.28,-122.09 56.75,-131 62.6,-131 66.35,-131 68.71,-127.34 69.68,-122.06\"/>\n",
       "<polygon fill=\"black\" stroke=\"black\" points=\"73.18,-122.1 70.01,-111.99 66.19,-121.87 73.18,-122.1\"/>\n",
       "<text text-anchor=\"middle\" x=\"62.6\" y=\"-134.8\" font-family=\"Times,serif\" font-size=\"14.00\">a,S</text>\n",
       "</g>\n",
       "<!-- 1 -->\n",
       "<g id=\"node3\" class=\"node\">\n",
       "<title>1</title>\n",
       "<ellipse fill=\"none\" stroke=\"black\" cx=\"157.6\" cy=\"-142\" rx=\"18\" ry=\"18\"/>\n",
       "<text text-anchor=\"middle\" x=\"157.6\" y=\"-138.3\" font-family=\"Times,serif\" font-size=\"14.00\">1</text>\n",
       "</g>\n",
       "<!-- 0&#45;&gt;1 -->\n",
       "<g id=\"edge2\" class=\"edge\">\n",
       "<title>0-&gt;1</title>\n",
       "<path fill=\"none\" stroke=\"black\" d=\"M73.47,-110.29C80.12,-121.09 89.98,-133.63 102.6,-140 110.79,-144.14 120.59,-145.4 129.59,-145.39\"/>\n",
       "<polygon fill=\"black\" stroke=\"black\" points=\"129.82,-148.89 139.63,-144.89 129.47,-141.89 129.82,-148.89\"/>\n",
       "<text text-anchor=\"middle\" x=\"112.1\" y=\"-147.8\" font-family=\"Times,serif\" font-size=\"14.00\">b</text>\n",
       "</g>\n",
       "<!-- qi -->\n",
       "<g id=\"node2\" class=\"node\">\n",
       "<title>qi</title>\n",
       "<ellipse fill=\"black\" stroke=\"black\" cx=\"1.8\" cy=\"-91\" rx=\"1.8\" ry=\"1.8\"/>\n",
       "</g>\n",
       "<!-- qi&#45;&gt;0 -->\n",
       "<g id=\"edge1\" class=\"edge\">\n",
       "<title>qi-&gt;0</title>\n",
       "<path fill=\"none\" stroke=\"black\" d=\"M3.82,-91C7.19,-91 18.44,-91 30.12,-91\"/>\n",
       "<polygon fill=\"black\" stroke=\"black\" points=\"30.31,-94.5 40.31,-91 30.31,-87.5 30.31,-94.5\"/>\n",
       "</g>\n",
       "<!-- 1&#45;&gt;0 -->\n",
       "<g id=\"edge7\" class=\"edge\">\n",
       "<title>1-&gt;0</title>\n",
       "<path fill=\"none\" stroke=\"black\" d=\"M141.73,-132.8C135.56,-129.05 128.28,-124.73 121.6,-121 111.95,-115.61 101.23,-109.98 91.67,-105.07\"/>\n",
       "<polygon fill=\"black\" stroke=\"black\" points=\"93.07,-101.85 82.57,-100.43 89.89,-108.09 93.07,-101.85\"/>\n",
       "<text text-anchor=\"middle\" x=\"112.1\" y=\"-124.8\" font-family=\"Times,serif\" font-size=\"14.00\">b,S</text>\n",
       "</g>\n",
       "<!-- 2 -->\n",
       "<g id=\"node4\" class=\"node\">\n",
       "<title>2</title>\n",
       "<ellipse fill=\"none\" stroke=\"black\" cx=\"258.6\" cy=\"-91\" rx=\"18\" ry=\"18\"/>\n",
       "<text text-anchor=\"middle\" x=\"258.6\" y=\"-87.3\" font-family=\"Times,serif\" font-size=\"14.00\">2</text>\n",
       "</g>\n",
       "<!-- 1&#45;&gt;2 -->\n",
       "<g id=\"edge3\" class=\"edge\">\n",
       "<title>1-&gt;2</title>\n",
       "<path fill=\"none\" stroke=\"black\" d=\"M174.07,-134.03C189.91,-125.87 214.75,-113.07 233.24,-103.55\"/>\n",
       "<polygon fill=\"black\" stroke=\"black\" points=\"234.95,-106.6 242.24,-98.91 231.75,-100.38 234.95,-106.6\"/>\n",
       "<text text-anchor=\"middle\" x=\"202.6\" y=\"-125.8\" font-family=\"Times,serif\" font-size=\"14.00\">a</text>\n",
       "</g>\n",
       "<!-- 2&#45;&gt;0 -->\n",
       "<g id=\"edge8\" class=\"edge\">\n",
       "<title>2-&gt;0</title>\n",
       "<path fill=\"none\" stroke=\"black\" d=\"M240.45,-91C207.78,-91 136.18,-91 94.8,-91\"/>\n",
       "<polygon fill=\"black\" stroke=\"black\" points=\"94.73,-87.5 84.73,-91 94.73,-94.5 94.73,-87.5\"/>\n",
       "<text text-anchor=\"middle\" x=\"157.6\" y=\"-94.8\" font-family=\"Times,serif\" font-size=\"14.00\">a,S</text>\n",
       "</g>\n",
       "<!-- 3 -->\n",
       "<g id=\"node5\" class=\"node\">\n",
       "<title>3</title>\n",
       "<ellipse fill=\"none\" stroke=\"black\" cx=\"348.6\" cy=\"-48\" rx=\"18\" ry=\"18\"/>\n",
       "<text text-anchor=\"middle\" x=\"348.6\" y=\"-44.3\" font-family=\"Times,serif\" font-size=\"14.00\">3</text>\n",
       "</g>\n",
       "<!-- 2&#45;&gt;3 -->\n",
       "<g id=\"edge4\" class=\"edge\">\n",
       "<title>2-&gt;3</title>\n",
       "<path fill=\"none\" stroke=\"black\" d=\"M275.33,-83.31C288.47,-76.89 307.44,-67.62 322.65,-60.19\"/>\n",
       "<polygon fill=\"black\" stroke=\"black\" points=\"324.56,-63.16 332,-55.62 321.48,-56.87 324.56,-63.16\"/>\n",
       "<text text-anchor=\"middle\" x=\"309.1\" y=\"-72.8\" font-family=\"Times,serif\" font-size=\"14.00\">b</text>\n",
       "</g>\n",
       "<!-- 3&#45;&gt;0 -->\n",
       "<g id=\"edge9\" class=\"edge\">\n",
       "<title>3-&gt;0</title>\n",
       "<path fill=\"none\" stroke=\"black\" d=\"M330.38,-50.19C307.39,-53.15 265.38,-58.66 229.6,-64 182.43,-71.03 127.88,-80.08 94.57,-85.71\"/>\n",
       "<polygon fill=\"black\" stroke=\"black\" points=\"93.81,-82.29 84.54,-87.41 94.98,-89.19 93.81,-82.29\"/>\n",
       "<text text-anchor=\"middle\" x=\"202.6\" y=\"-73.8\" font-family=\"Times,serif\" font-size=\"14.00\">a,S</text>\n",
       "</g>\n",
       "<!-- 4 -->\n",
       "<g id=\"node6\" class=\"node\">\n",
       "<title>4</title>\n",
       "<ellipse fill=\"none\" stroke=\"black\" cx=\"468.6\" cy=\"-18\" rx=\"18\" ry=\"18\"/>\n",
       "<text text-anchor=\"middle\" x=\"468.6\" y=\"-14.3\" font-family=\"Times,serif\" font-size=\"14.00\">4</text>\n",
       "</g>\n",
       "<!-- 3&#45;&gt;4 -->\n",
       "<g id=\"edge5\" class=\"edge\">\n",
       "<title>3-&gt;4</title>\n",
       "<path fill=\"none\" stroke=\"black\" d=\"M366.26,-43.77C385.76,-38.81 418.31,-30.53 441.25,-24.7\"/>\n",
       "<polygon fill=\"black\" stroke=\"black\" points=\"442.2,-28.07 451.03,-22.21 440.47,-21.29 442.2,-28.07\"/>\n",
       "<text text-anchor=\"middle\" x=\"408.6\" y=\"-42.8\" font-family=\"Times,serif\" font-size=\"14.00\">b/unlock</text>\n",
       "</g>\n",
       "<!-- 4&#45;&gt;0 -->\n",
       "<g id=\"edge10\" class=\"edge\">\n",
       "<title>4-&gt;0</title>\n",
       "<path fill=\"none\" stroke=\"black\" d=\"M450.89,-14.29C428.11,-9.56 385.99,-2 349.6,-2 156.6,-2 156.6,-2 156.6,-2 121.02,-2 93.72,-36.43 78.17,-62.46\"/>\n",
       "<polygon fill=\"black\" stroke=\"black\" points=\"75.07,-60.83 73.16,-71.25 81.15,-64.29 75.07,-60.83\"/>\n",
       "<text text-anchor=\"middle\" x=\"258.6\" y=\"-5.8\" font-family=\"Times,serif\" font-size=\"14.00\">a,b,S/reset</text>\n",
       "</g>\n",
       "</g>\n",
       "</svg>"
      ],
      "text/plain": [
       "<IPython.core.display.SVG object>"
      ]
     },
     "metadata": {},
     "output_type": "display_data"
    }
   ],
   "source": [
    "figcs = !echo '{digraphcs}' | dot -Tsvg \n",
    "display(SVG('\\n'.join(figcs)))"
   ]
  },
  {
   "cell_type": "code",
   "execution_count": 195,
   "id": "f364d1f3-e018-4dd7-bc03-1e6eb5ae96f4",
   "metadata": {},
   "outputs": [],
   "source": [
    "!echo '{digraphcs}' | dot -Tpng > figs/codeslot-automaat.png"
   ]
  },
  {
   "cell_type": "markdown",
   "id": "d7b6139f-160e-4bed-b873-7b0b595e891e",
   "metadata": {},
   "source": [
    "Tabel:\n",
    "\n",
    "| state | input | output | state |\n",
    "| :---  | :---  | :---   | :---  |\n",
    "| 0     |  a    |        | 0     |\n",
    "| 0     |  b    |        | 1     |\n",
    "| 0     |  S    |        | 0     |\n",
    "| 1     |  a    |        | 2     |\n",
    "| 1     |  b    |        | 0     |\n",
    "| 1     |  S    |        | 0     |\n",
    "| 2     |  a    |        | 0     |\n",
    "| 2     |  b    |        | 3     |\n",
    "| 2     |  S    |        | 0     |\n",
    "| 3     |  a    |        | 0     |\n",
    "| 3     |  b    | unlock | 4     |\n",
    "| 3     |  S    |        | 0     |\n",
    "| 4     |  a    | reset  | 0     |\n",
    "| 4     |  b    | reset  | 0     |\n",
    "| 4     |  S    | reset  | 0     |\n"
   ]
  },
  {
   "cell_type": "markdown",
   "id": "426d42de-5e2e-42b0-b2f5-2432ccf17a23",
   "metadata": {},
   "source": [
    "De volgende stap is om deze tabel te groeperen volgens de input, in plaats van volgens de toestand. (Dit betekent: sorteren op input, en dan op state.)"
   ]
  },
  {
   "cell_type": "markdown",
   "id": "66f5abac-b741-4b88-807e-709b0791eaac",
   "metadata": {},
   "source": [
    "| state | input | output | state |\n",
    "| :---  | :---  | :---   | :---  |\n",
    "| 0     |  a    |        | 0     |\n",
    "| 1     |  a    |        | 2     |\n",
    "| 2     |  a    |        | 0     |\n",
    "| 3     |  a    |        | 0     |\n",
    "| 4     |  a    | reset  | 0     |\n",
    "| 0     |  b    |        | 1     |\n",
    "| 1     |  b    |        | 0     |\n",
    "| 2     |  b    |        | 3     |\n",
    "| 3     |  b    | unlock | 4     |\n",
    "| 4     |  b    | reset  | 0     |\n",
    "| 0     |  S    |        | 0     |\n",
    "| 1     |  S    |        | 0     |\n",
    "| 2     |  S    |        | 0     |\n",
    "| 3     |  S    |        | 0     |\n",
    "| 4     |  S    | reset  | 0     |"
   ]
  },
  {
   "cell_type": "markdown",
   "id": "2026b94b-d15e-4d8b-849f-1cfee39e5758",
   "metadata": {},
   "source": [
    "Deze tabel kunnen we dan direct omzetten in het volgende Python-programma:"
   ]
  },
  {
   "cell_type": "code",
   "execution_count": null,
   "id": "78d7947b-c06e-46ae-9702-ee4f0caa8806",
   "metadata": {},
   "outputs": [],
   "source": [
    "from microbit import *\n",
    "\n",
    "state = 0\n",
    "\n",
    "def unlock():\n",
    "    display.show(Image.HEART)\n",
    "\n",
    "def reset():\n",
    "    display.show(Image.CONFUSED)\n",
    "\n",
    "def button_a_handler():\n",
    "    global state\n",
    "    if state == 0:\n",
    "        state = 0\n",
    "    elif state == 1:\n",
    "        state = 2\n",
    "    elif state == 2:\n",
    "        state = 0\n",
    "    elif state == 3:\n",
    "        state = 0\n",
    "    elif state == 4:\n",
    "        state = 0\n",
    "        reset()\n",
    "        \n",
    "def button_b_handler():\n",
    "    global state\n",
    "    if state == 0:\n",
    "        state = 1\n",
    "    elif state == 1:\n",
    "        state = 0\n",
    "    elif state == 2:\n",
    "        state = 3\n",
    "    elif state == 3:\n",
    "        state = 4\n",
    "        unlock()\n",
    "    elif state == 4:\n",
    "        state = 0\n",
    "        reset()\n",
    "\n",
    "def shake_handler():\n",
    "    global state\n",
    "    state = 0\n",
    "    reset()\n",
    "\n",
    "reset()\n",
    "while True:\n",
    "    if button_a.was_pressed():\n",
    "        button_a_handler()\n",
    "    elif button_b.was_pressed():\n",
    "        button_b_handler()\n",
    "    elif accelerometer.was_gesture(\"shake\"):\n",
    "        shake_handler()\n"
   ]
  },
  {
   "cell_type": "markdown",
   "id": "ae4cad3d-1a65-4fe1-a7ac-c80a32bb0d7a",
   "metadata": {},
   "source": [
    "* https://microbit-micropython.readthedocs.io/en/v2-docs/"
   ]
  },
  {
   "cell_type": "markdown",
   "id": "0adfc788-faac-437f-a143-c3b21eb3aad0",
   "metadata": {},
   "source": [
    "* verander de code in \"1010\"\n",
    "* breid de code uit met 1 bit (denk erom dat je automaat volledig moet zijn!)\n",
    "* bedenk ideeën voor het gebruik van dit codeslot\n"
   ]
  },
  {
   "cell_type": "markdown",
   "id": "9f267620-4edb-4107-9bc9-d391b2ad6c4e",
   "metadata": {},
   "source": [
    "Enkele ideeën voor het gebruik van het codeslot\n",
    "\n",
    "**Bewaak je geheime la.** Je kunt de microbit plaatsen in je geheime la. Zodra de microbit beweging detecteert, gaat het pre-alarm af, bijvoorbeeld een knipperend display. Als je dan binnen 15 seconden het codewoord invoert, gaat de microbit weer in rust-toestand. Als het coderwoord niet op tijd ingevoerd wordt, gaat het hoorbare alarm af.\n",
    "(Met behulp van meerdere microbits die via radio communiceren kun je dit nog veiliger maken. Je kunt zelfs een bericht naar je smartphone laten sturen?)\n",
    "\n",
    "\n"
   ]
  },
  {
   "cell_type": "markdown",
   "id": "90629dfa-a799-412c-9524-4914d18fab4c",
   "metadata": {},
   "source": [
    "Opmerkingen bij het codeslot:\n",
    "\n",
    "In principe lijken 4 toestanden voldoende - tenzij de eindtoestand speciale acties heeft, zoals hier \"reset\"; is die nodig? - en waarom?\n",
    "\n",
    "* zonder die toestand zou de \"unlock\" weer naar de begintoestand gaan; je kunt dan niet zeggen of in die toestand het slot open of dicht is.\n",
    "\n",
    "\n",
    "\n"
   ]
  }
 ],
 "metadata": {
  "kernelspec": {
   "display_name": "Python 3 (ipykernel)",
   "language": "python",
   "name": "python3"
  },
  "language_info": {
   "codemirror_mode": {
    "name": "ipython",
    "version": 3
   },
   "file_extension": ".py",
   "mimetype": "text/x-python",
   "name": "python",
   "nbconvert_exporter": "python",
   "pygments_lexer": "ipython3",
   "version": "3.10.4"
  }
 },
 "nbformat": 4,
 "nbformat_minor": 5
}
