{
 "cells": [
  {
   "cell_type": "markdown",
   "id": "2b5a42b1-fb21-478d-9460-7107f982c708",
   "metadata": {},
   "source": [
    "# Game of Life voor de microbit"
   ]
  },
  {
   "cell_type": "code",
   "execution_count": null,
   "id": "4dc4f154-96a7-43a4-a550-5eb426c4413a",
   "metadata": {},
   "outputs": [],
   "source": [
    "from microbit import *\n",
    "import random\n",
    "\n",
    "def create_random_field():\n",
    "    field = []\n",
    "    for i in range(5):\n",
    "        row = []\n",
    "        for j in range(5):\n",
    "            row.append(random.randrange(2))\n",
    "        field.append(row)\n",
    "    return field\n",
    "\n",
    "def create_field():\n",
    "    field = []\n",
    "    for i in range(5):\n",
    "        row = []\n",
    "        for j in range(5):\n",
    "            row.append(0)\n",
    "        field.append(row)\n",
    "    return field\n",
    "\n",
    "def cell_value(r, c):\n",
    "    if r < 0 or r > 4 or c < 0 or c > 4:\n",
    "        return 0  # border cells\n",
    "    else:\n",
    "        return cells[r][c]\n",
    "\n",
    "# count neighbours incl. cell itself\n",
    "def count_neighbours(r, c):\n",
    "    total = 0\n",
    "    for i in range(3):\n",
    "        for j in range(3):    \n",
    "            total = total + cell_value(r + i - 1, c + j - 1)\n",
    "    return total\n",
    "\n",
    "def next_cell(cell, cnt):\n",
    "    if cell == 1 and (cnt == 3 or cnt ==4):\n",
    "        return 1\n",
    "    elif cell == 0 and cnt == 3:\n",
    "        return 1\n",
    "    else:\n",
    "        return 0\n",
    "    \n",
    "def next_generation():\n",
    "    new_cells = create_field()\n",
    "    for i in range(5):\n",
    "        for j in range(5):\n",
    "            cnt = count_neighbours(i, j)\n",
    "            new_cells[i][j] = next_cell(cells[i][j], cnt)\n",
    "    return new_cells\n",
    "\n",
    "def display_field(field):\n",
    "    for x in range(5):\n",
    "        for y in range(5):\n",
    "            display.set_pixel(x, y, 9 * field[y][x])\n",
    "\n",
    "cells = create_random_field()\n",
    "display_field(cells)\n",
    "while True:\n",
    "    if button_a.was_pressed():\n",
    "        cells = next_generation()\n",
    "        display_field(cells)\n",
    "    if accelerometer.was_gesture('shake'):\n",
    "        cells = create_random_field()\n",
    "        display_field(cells)"
   ]
  }
 ],
 "metadata": {
  "kernelspec": {
   "display_name": "Python 3 (ipykernel)",
   "language": "python",
   "name": "python3"
  },
  "language_info": {
   "codemirror_mode": {
    "name": "ipython",
    "version": 3
   },
   "file_extension": ".py",
   "mimetype": "text/x-python",
   "name": "python",
   "nbconvert_exporter": "python",
   "pygments_lexer": "ipython3",
   "version": "3.10.4"
  }
 },
 "nbformat": 4,
 "nbformat_minor": 5
}
