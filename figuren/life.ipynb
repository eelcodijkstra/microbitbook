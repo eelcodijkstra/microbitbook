{
 "cells": [
  {
   "cell_type": "markdown",
   "id": "ff51ad9e-c299-4280-9c3f-ef14c527ff70",
   "metadata": {},
   "source": [
    "# Game of Life"
   ]
  },
  {
   "cell_type": "markdown",
   "id": "e0414a0c-fd3d-4e66-8959-a92770c97817",
   "metadata": {},
   "source": [
    "Het speelveld is een array van rijen; elke rij bestaat uit een array van cellen.\n",
    "\n",
    "(Voor het display van de microbit zou dat eigenlijk net andersom moeten: x is de eerste coördinaat. Maar zo werkt Python niet.)\n"
   ]
  },
  {
   "cell_type": "code",
   "execution_count": 1,
   "id": "21eb0751-2b44-4b54-aac1-2d0951dbdb1e",
   "metadata": {},
   "outputs": [],
   "source": [
    "import random"
   ]
  },
  {
   "cell_type": "code",
   "execution_count": 2,
   "id": "7d491af1-106d-4007-9eae-9c102645175b",
   "metadata": {},
   "outputs": [],
   "source": [
    "def create_field():\n",
    "    field = []\n",
    "    for i in range(5):\n",
    "        row = []\n",
    "        for j in range(5):\n",
    "            row.append(0)\n",
    "        field.append(row)\n",
    "    return field"
   ]
  },
  {
   "cell_type": "code",
   "execution_count": 7,
   "id": "9eb3be0c-095b-40e1-8cf3-aa62bf0cfff8",
   "metadata": {},
   "outputs": [],
   "source": [
    "def create_random_field():\n",
    "    field = create_field()\n",
    "    for i in range(5):\n",
    "        for j in range(5):\n",
    "            field[i][j] = random.randrange(2)\n",
    "    return field"
   ]
  },
  {
   "cell_type": "code",
   "execution_count": 22,
   "id": "8e95b1bb-f778-4097-9356-21edd7cf7aa5",
   "metadata": {},
   "outputs": [],
   "source": [
    "cells = create_field()"
   ]
  },
  {
   "cell_type": "code",
   "execution_count": 23,
   "id": "85f6ba93-376c-45a1-a740-19c33fe1d0f8",
   "metadata": {},
   "outputs": [
    {
     "data": {
      "text/plain": [
       "[[0, 0, 0, 0, 0],\n",
       " [0, 0, 0, 0, 0],\n",
       " [0, 0, 0, 0, 0],\n",
       " [0, 0, 0, 0, 0],\n",
       " [0, 0, 0, 0, 0]]"
      ]
     },
     "execution_count": 23,
     "metadata": {},
     "output_type": "execute_result"
    }
   ],
   "source": [
    "cells"
   ]
  },
  {
   "cell_type": "markdown",
   "id": "02cca87f-7d49-41e1-b98b-ad875521ff44",
   "metadata": {},
   "source": [
    "Voor de toegang tot een enkele cel gebruiken we de volgende functie:\n"
   ]
  },
  {
   "cell_type": "code",
   "execution_count": 24,
   "id": "de8589c6-b513-4ebe-b87b-b067efdbbb2d",
   "metadata": {},
   "outputs": [],
   "source": [
    "def cell_value(r, c):\n",
    "    if r < 0 or r > 4 or c < 0 or c > 4:\n",
    "        return 0\n",
    "    else:\n",
    "        return cells[r][c]"
   ]
  },
  {
   "cell_type": "markdown",
   "id": "f7bb3a24-c62b-40c9-b32a-43d00de90575",
   "metadata": {},
   "source": [
    "Voor het tellen van het aantal levende buren (excl. de cel zelf; van de 8 directe buren):"
   ]
  },
  {
   "cell_type": "code",
   "execution_count": 25,
   "id": "b2be0372-d799-4647-bc79-0b2d80c0c1eb",
   "metadata": {},
   "outputs": [],
   "source": [
    "def count_neighbours(r, c):\n",
    "    total = - cell_value(r, c)\n",
    "    for i in range(3):\n",
    "        for j in range(3):    \n",
    "            total = total + cell_value(r + i - 1, c + j - 1)\n",
    "    return total        "
   ]
  },
  {
   "cell_type": "markdown",
   "id": "7b2efb5a-138d-4ac6-92a1-f356c68a9008",
   "metadata": {},
   "source": [
    "Berekenen van de volgende toestand van de automaat, voor elke cel.\n",
    "\n",
    "We hebben een nieuwe generatie nodig; die kunnen we aanmaken met create_field.\n",
    "\n",
    "(In een latere versie kunnen we zelf de recycling van de oude fields voor onze rekening nemen: we hebben aan twee generaties voldoende.)"
   ]
  },
  {
   "cell_type": "markdown",
   "id": "d01648d4-30fb-41fc-a691-ce3f73587e1b",
   "metadata": {},
   "source": [
    "De regels voor de volgende toestand van een cel, afhankelijk van het aantal buren:"
   ]
  },
  {
   "cell_type": "code",
   "execution_count": 26,
   "id": "bf6e0fce-8885-4589-98c5-5214e7e60960",
   "metadata": {},
   "outputs": [],
   "source": [
    "def next_cell(cell, cnt):\n",
    "    if cell == 1 and (cnt == 2 or cnt ==3):\n",
    "        return 1\n",
    "    elif cell == 0 and cnt == 3:\n",
    "        return 1\n",
    "    else:\n",
    "        return 0"
   ]
  },
  {
   "cell_type": "code",
   "execution_count": 27,
   "id": "c28e4135-b72e-4d19-a428-bcd1250c5ceb",
   "metadata": {},
   "outputs": [],
   "source": [
    "def next_generation():\n",
    "    new_cells = create_field()\n",
    "    for i in range(5):\n",
    "        for j in range(5):\n",
    "            cnt = count_neighbours(i, j)\n",
    "            new_cells[i][j] = next_cell(cells[i][j], cnt)\n",
    "    return new_cells        "
   ]
  },
  {
   "cell_type": "markdown",
   "id": "71330f61-51d5-4d99-bed8-6483fcc791f6",
   "metadata": {},
   "source": []
  },
  {
   "cell_type": "code",
   "execution_count": 46,
   "id": "d2aff2d8-33f7-444d-8712-eb7a06c30e01",
   "metadata": {},
   "outputs": [
    {
     "data": {
      "text/plain": [
       "[[0, 0, 0, 0, 0],\n",
       " [0, 0, 1, 0, 0],\n",
       " [0, 1, 1, 1, 0],\n",
       " [0, 0, 1, 0, 0],\n",
       " [0, 0, 0, 0, 0]]"
      ]
     },
     "execution_count": 46,
     "metadata": {},
     "output_type": "execute_result"
    }
   ],
   "source": [
    "cells[2][1] = 1\n",
    "cells[2][2] = 1\n",
    "cells[2][3] = 1\n",
    "cells[1][2] = 1\n",
    "cells[3][2] = 1\n",
    "cells"
   ]
  },
  {
   "cell_type": "code",
   "execution_count": 39,
   "id": "133259ce-2cee-4939-957b-2ff139f004fe",
   "metadata": {},
   "outputs": [
    {
     "data": {
      "text/plain": [
       "4"
      ]
     },
     "execution_count": 39,
     "metadata": {},
     "output_type": "execute_result"
    }
   ],
   "source": [
    "count_neighbours(2,2)"
   ]
  },
  {
   "cell_type": "code",
   "execution_count": 40,
   "id": "74e48052-ab75-4cb4-bcc8-ec1c5e4c7b13",
   "metadata": {},
   "outputs": [
    {
     "data": {
      "text/plain": [
       "[[0, 0, 0, 0, 0],\n",
       " [0, 1, 1, 0, 0],\n",
       " [0, 1, 0, 0, 0],\n",
       " [0, 1, 1, 0, 0],\n",
       " [0, 0, 0, 0, 0]]"
      ]
     },
     "execution_count": 40,
     "metadata": {},
     "output_type": "execute_result"
    }
   ],
   "source": [
    "next_generation()"
   ]
  },
  {
   "cell_type": "code",
   "execution_count": 31,
   "id": "97ebee7c-fbad-4323-8eb4-3cf875a8fd6d",
   "metadata": {},
   "outputs": [
    {
     "data": {
      "text/plain": [
       "[[0, 0, 0, 0, 0],\n",
       " [0, 0, 1, 0, 0],\n",
       " [0, 0, 1, 0, 0],\n",
       " [0, 0, 1, 0, 0],\n",
       " [0, 0, 0, 0, 0]]"
      ]
     },
     "execution_count": 31,
     "metadata": {},
     "output_type": "execute_result"
    }
   ],
   "source": [
    "next_generation()"
   ]
  },
  {
   "cell_type": "code",
   "execution_count": 18,
   "id": "301dda69-26ea-44b8-b992-0a08189a8334",
   "metadata": {},
   "outputs": [],
   "source": [
    "def random_field():\n",
    "    for i in range(5):\n",
    "        for j in range(5):\n",
    "            cells[i][j] = random.randrange(2)"
   ]
  },
  {
   "cell_type": "code",
   "execution_count": null,
   "id": "d48804d9-7967-4dc5-b406-b25324b65561",
   "metadata": {},
   "outputs": [],
   "source": []
  },
  {
   "cell_type": "code",
   "execution_count": null,
   "id": "6ff038d3-bf2b-45c4-bc47-a9d02523f5a3",
   "metadata": {},
   "outputs": [],
   "source": []
  },
  {
   "cell_type": "code",
   "execution_count": 19,
   "id": "e01c319e-852b-4b81-bc49-03a2bcd91e24",
   "metadata": {},
   "outputs": [
    {
     "data": {
      "text/plain": [
       "0"
      ]
     },
     "execution_count": 19,
     "metadata": {},
     "output_type": "execute_result"
    }
   ],
   "source": [
    "random.randrange(2)"
   ]
  },
  {
   "cell_type": "code",
   "execution_count": 20,
   "id": "65954163-cbc8-4ad7-bc41-adb174504b16",
   "metadata": {},
   "outputs": [
    {
     "data": {
      "text/plain": [
       "[[1, 1, 0, 1, 1],\n",
       " [0, 1, 0, 1, 0],\n",
       " [0, 0, 1, 0, 0],\n",
       " [1, 1, 0, 0, 1],\n",
       " [0, 0, 0, 1, 0]]"
      ]
     },
     "execution_count": 20,
     "metadata": {},
     "output_type": "execute_result"
    }
   ],
   "source": [
    "random_field()\n",
    "cells"
   ]
  },
  {
   "cell_type": "code",
   "execution_count": 61,
   "id": "a74b936e-decd-4950-b686-015c7c55323e",
   "metadata": {},
   "outputs": [
    {
     "data": {
      "text/plain": [
       "[[0, 1, 1, 1, 0],\n",
       " [1, 0, 1, 0, 1],\n",
       " [1, 1, 0, 1, 1],\n",
       " [1, 0, 1, 0, 1],\n",
       " [0, 1, 1, 1, 0]]"
      ]
     },
     "execution_count": 61,
     "metadata": {},
     "output_type": "execute_result"
    }
   ],
   "source": [
    "cells = next_generation()\n",
    "cells"
   ]
  },
  {
   "cell_type": "markdown",
   "id": "7d9ba8e2-a026-4ffe-b817-14d4a04ee34a",
   "metadata": {},
   "source": []
  }
 ],
 "metadata": {
  "kernelspec": {
   "display_name": "Python 3 (ipykernel)",
   "language": "python",
   "name": "python3"
  },
  "language_info": {
   "codemirror_mode": {
    "name": "ipython",
    "version": 3
   },
   "file_extension": ".py",
   "mimetype": "text/x-python",
   "name": "python",
   "nbconvert_exporter": "python",
   "pygments_lexer": "ipython3",
   "version": "3.10.4"
  }
 },
 "nbformat": 4,
 "nbformat_minor": 5
}
