{
 "cells": [
  {
   "cell_type": "markdown",
   "id": "ff51ad9e-c299-4280-9c3f-ef14c527ff70",
   "metadata": {},
   "source": []
  },
  {
   "cell_type": "code",
   "execution_count": 2,
   "id": "7d491af1-106d-4007-9eae-9c102645175b",
   "metadata": {},
   "outputs": [],
   "source": [
    "def create_field():\n",
    "    row = []\n",
    "    for i in range(5):\n",
    "        row.append(0)\n",
    "    field = []\n",
    "    for i in range(5):\n",
    "        field.append(row)\n",
    "    return field"
   ]
  },
  {
   "cell_type": "code",
   "execution_count": 3,
   "id": "8e95b1bb-f778-4097-9356-21edd7cf7aa5",
   "metadata": {},
   "outputs": [],
   "source": [
    "cells = create_field()"
   ]
  },
  {
   "cell_type": "code",
   "execution_count": 4,
   "id": "85f6ba93-376c-45a1-a740-19c33fe1d0f8",
   "metadata": {},
   "outputs": [
    {
     "data": {
      "text/plain": [
       "[[0, 0, 0, 0, 0],\n",
       " [0, 0, 0, 0, 0],\n",
       " [0, 0, 0, 0, 0],\n",
       " [0, 0, 0, 0, 0],\n",
       " [0, 0, 0, 0, 0]]"
      ]
     },
     "execution_count": 4,
     "metadata": {},
     "output_type": "execute_result"
    }
   ],
   "source": [
    "cells"
   ]
  },
  {
   "cell_type": "code",
   "execution_count": 8,
   "id": "e7dcbd93-d4d2-43c9-925f-e67e30340810",
   "metadata": {},
   "outputs": [],
   "source": [
    "def create_rule(x):\n",
    "    rule = []\n",
    "    for r in range(8):\n",
    "        rule.append(x % 2)\n",
    "        x = x // 2\n",
    "    return rule    "
   ]
  },
  {
   "cell_type": "code",
   "execution_count": 34,
   "id": "aa008ad9-39cb-46be-a255-9c1d5784d7d5",
   "metadata": {},
   "outputs": [
    {
     "data": {
      "text/plain": [
       "[0, 1, 1, 1, 0, 1, 1, 0]"
      ]
     },
     "execution_count": 34,
     "metadata": {},
     "output_type": "execute_result"
    }
   ],
   "source": [
    "rule = create_rule(110)\n",
    "rule"
   ]
  },
  {
   "cell_type": "code",
   "execution_count": 50,
   "id": "71cbf5a0-35f4-4832-9907-a3d5314fa3eb",
   "metadata": {},
   "outputs": [],
   "source": [
    "def next_gen(gen):\n",
    "    old_gen = gen\n",
    "    old_gen.insert(0, 0)  # add border cells\n",
    "    old_gen.insert(6, 0)\n",
    "    next_gen = []\n",
    "    for i in range(5):\n",
    "        value = old_gen[i] * 4 + old_gen[i+1] * 2 + old_gen[i+2]\n",
    "        next_gen.append(rule[value])\n",
    "    return next_gen "
   ]
  },
  {
   "cell_type": "code",
   "execution_count": 51,
   "id": "f0106f8e-6777-4caf-8836-3b0b84460376",
   "metadata": {},
   "outputs": [
    {
     "data": {
      "text/plain": [
       "[1, 1, 0, 1, 0]"
      ]
     },
     "execution_count": 51,
     "metadata": {},
     "output_type": "execute_result"
    }
   ],
   "source": [
    "next_gen([0,1,1,1,0])"
   ]
  },
  {
   "cell_type": "code",
   "execution_count": 52,
   "id": "84dc54f3-963b-4fc4-b481-a78f59483ae7",
   "metadata": {},
   "outputs": [
    {
     "name": "stdout",
     "output_type": "stream",
     "text": [
      "[0, 0, 0, 0, 1]\n",
      "[0, 0, 0, 1, 1]\n",
      "[0, 0, 1, 1, 1]\n",
      "[0, 1, 1, 0, 1]\n",
      "[1, 1, 1, 1, 1]\n",
      "[1, 0, 0, 0, 1]\n"
     ]
    }
   ],
   "source": [
    "state = [0,0,0,0,1]\n",
    "print(state)\n",
    "for i in range(5):\n",
    "    state = next_gen(state)\n",
    "    print(state)"
   ]
  },
  {
   "cell_type": "markdown",
   "id": "7c79dc35-c8bb-4b38-a1c8-a698c4edfe84",
   "metadata": {},
   "source": []
  },
  {
   "cell_type": "markdown",
   "id": "f41ae189-464d-4bbe-8d68-d3e7cfae6c55",
   "metadata": {},
   "source": []
  }
 ],
 "metadata": {
  "kernelspec": {
   "display_name": "Python 3 (ipykernel)",
   "language": "python",
   "name": "python3"
  },
  "language_info": {
   "codemirror_mode": {
    "name": "ipython",
    "version": 3
   },
   "file_extension": ".py",
   "mimetype": "text/x-python",
   "name": "python",
   "nbconvert_exporter": "python",
   "pygments_lexer": "ipython3",
   "version": "3.10.4"
  }
 },
 "nbformat": 4,
 "nbformat_minor": 5
}
