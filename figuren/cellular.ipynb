{
 "cells": [
  {
   "cell_type": "markdown",
   "id": "bf678be2-c638-4670-98a5-b86be2f21e3f",
   "metadata": {},
   "source": [
    "# Cellulaire automaat in Python\n",
    "\n",
    "Deze versie is bedoeld voor de microbit; maar we kunnen ook een versie maken voor Jupyter Notebook cq. Jupyter Book.\n",
    "\n",
    "(Voor de JB versie is het netter cq. handiger om een groter veld te gebruiken. (Eigenlijk heeft alleen de huidige generatie daar betekenis; maar we kunnen wel een (beperkte) geschiedenis bijhouden; kunnen we daar het display van afleiden?) In de onderstaande versie moeten we de grootte van het veld instelbaar maken.\n",
    "\n",
    "(Wat hebben we nodig voor de grens-cellen? - we kunnen daar ook een functie van maken: dan kunnen we altijd nog kiezen of we \"rond willen tellen\", of met een 0-grens werken; of zelfs met een 1-grens...)"
   ]
  },
  {
   "cell_type": "code",
   "execution_count": 53,
   "id": "2772d398-5c8e-46ae-9d3e-740e72b2c8c7",
   "metadata": {},
   "outputs": [],
   "source": [
    "import random\n",
    "\n",
    "rule = [0, 0, 0, 0, 0, 0, 0, 0]  # a rule is given by a number, or 8 bits\n",
    "gen_nr = 0\n",
    "state = []\n",
    "history = []\n",
    "size = 10 \n",
    "\n",
    "def new_seed():\n",
    "    global gen_nr\n",
    "    gen_nr = 0\n",
    "    seed = random.randbytes(1)[0]\n",
    "    create_field()\n",
    "    for i in range(5):\n",
    "        field[0][i] = seed % 2\n",
    "        seed = seed // 2\n",
    "\n",
    "def create_state(nr_cells, ones):\n",
    "    global size, state, history, gen_nr\n",
    "    gen_nr = 0\n",
    "    state = []\n",
    "    size = nr_cells\n",
    "    for i in range(size):\n",
    "        state.append(0)\n",
    "    for cellnr in ones:\n",
    "        if cellnr >= 0 and cellnr < nr_cells:\n",
    "            state[cellnr] = 1\n",
    "    history = [state]\n",
    "    \n",
    "\n",
    "def set_rule(rulenr):\n",
    "    global rule\n",
    "    for r in range(8):\n",
    "        rule[r] = rulenr % 2\n",
    "        rulenr = rulenr // 2\n",
    "\n",
    "def cur_gen(i):\n",
    "    if i < 0:\n",
    "        return 0\n",
    "    elif i >= len(state):\n",
    "        return 0\n",
    "    else:\n",
    "        return state[i]\n",
    "    \n",
    "def next_gen(gen):\n",
    "    next_gen = []\n",
    "    for i in range(size):\n",
    "        cell_state = cur_gen(i-1) * 4 + cur_gen(i) * 2 + cur_gen(i+1)\n",
    "        next_gen.append(rule[cell_state])\n",
    "    return next_gen\n",
    "\n",
    "def next_state():\n",
    "    global gen_nr, state, history\n",
    "    state = next_gen(state)\n",
    "    history.append(state)\n",
    "    gen_nr = gen_nr + 1\n",
    "\n",
    "def display_history():\n",
    "    for row in history:\n",
    "        line = \"\"\n",
    "        for x in row:\n",
    "            if x == 1:\n",
    "                line = line + \"x\"\n",
    "            else:\n",
    "                line = line + \".\"\n",
    "        print(line)         "
   ]
  },
  {
   "cell_type": "code",
   "execution_count": 82,
   "id": "164c353e-a650-4e7c-85d8-60f1188cb256",
   "metadata": {},
   "outputs": [],
   "source": [
    "create_state(40, [20,35])\n",
    "set_rule(110)\n",
    "# new_seed()\n"
   ]
  },
  {
   "cell_type": "code",
   "execution_count": 83,
   "id": "dfc08bfb-58ee-4864-8ace-fec4688a312a",
   "metadata": {},
   "outputs": [
    {
     "name": "stdout",
     "output_type": "stream",
     "text": [
      "....................x..............x....\n"
     ]
    }
   ],
   "source": [
    "display_history()"
   ]
  },
  {
   "cell_type": "code",
   "execution_count": 84,
   "id": "d9ed4293-653f-458e-a68b-d5adaf1e13de",
   "metadata": {},
   "outputs": [
    {
     "name": "stdout",
     "output_type": "stream",
     "text": [
      "[0, 1, 1, 1, 0, 1, 1, 0]\n"
     ]
    }
   ],
   "source": [
    "print(rule)"
   ]
  },
  {
   "cell_type": "code",
   "execution_count": 85,
   "id": "261f2d02-930b-455b-abf2-8b64c97c6829",
   "metadata": {},
   "outputs": [
    {
     "name": "stdout",
     "output_type": "stream",
     "text": [
      "....................x..............x....\n",
      "...................xx.............xx....\n"
     ]
    }
   ],
   "source": [
    "next_state()\n",
    "display_history()"
   ]
  },
  {
   "cell_type": "code",
   "execution_count": 86,
   "id": "75ebc94d-afda-4736-9448-1767d87cbfc1",
   "metadata": {},
   "outputs": [
    {
     "name": "stdout",
     "output_type": "stream",
     "text": [
      "....................x..............x....\n",
      "...................xx.............xx....\n",
      "..................xxx............xxx....\n",
      ".................xx.x...........xx.x....\n",
      "................xxxxx..........xxxxx....\n",
      "...............xx...x.........xx...x....\n",
      "..............xxx..xx........xxx..xx....\n",
      ".............xx.x.xxx.......xx.x.xxx....\n",
      "............xxxxxxx.x......xxxxxxx.x....\n",
      "...........xx.....xxx.....xx.....xxx....\n",
      "..........xxx....xx.x....xxx....xx.x....\n",
      ".........xx.x...xxxxx...xx.x...xxxxx....\n",
      "........xxxxx..xx...x..xxxxx..xx...x....\n",
      ".......xx...x.xxx..xx.xx...x.xxx..xx....\n",
      "......xxx..xxxx.x.xxxxxx..xxxx.x.xxx....\n",
      ".....xx.x.xx..xxxxx....x.xx..xxxxx.x....\n",
      "....xxxxxxxx.xx...x...xxxxx.xx...xxx....\n",
      "...xx......xxxx..xx..xx...xxxx..xx.x....\n",
      "..xxx.....xx..x.xxx.xxx..xx..x.xxxxx....\n",
      ".xx.x....xxx.xxxx.xxx.x.xxx.xxxx...x....\n",
      "xxxxx...xx.xxx..xxx.xxxxx.xxx..x..xx....\n",
      "x...x..xxxxx.x.xx.xxx...xxx.x.xx.xxx....\n"
     ]
    }
   ],
   "source": [
    "for i in range(20):\n",
    "    next_state()\n",
    "display_history()    "
   ]
  },
  {
   "cell_type": "markdown",
   "id": "ee4b0bac-5fc9-44df-9884-6ada5d01c541",
   "metadata": {},
   "source": [
    "Hoe passen we dit aan voor de microbit?\n",
    "\n",
    "* bij het maken van de automaat beperken we ons tot size = 5.\n",
    "* we tonen op het display alleen de laatste 5 generaties\n",
    "* we hoeven dan in de history ook niet meer dan 5 generaties op te slaan.\n",
    "    * (dat spaart op de microbit weer wat schaars geheugen)\n",
    "    * (eigenlijk moeten we dan wel zo nu en dan garbage collection doen?)\n",
    "\n",
    "Voor het zetten van de initiële toestand kunnen we knop B gebruiken als een binaire teller. (Zie andere opdrachten.)\n"
   ]
  },
  {
   "cell_type": "code",
   "execution_count": 99,
   "id": "bcf46437-9767-425f-b490-de3af96360da",
   "metadata": {},
   "outputs": [],
   "source": [
    "create_state(5, [4])\n",
    "set_rule(110)"
   ]
  },
  {
   "cell_type": "code",
   "execution_count": 100,
   "id": "13600562-1450-4ada-8c0f-82953ac61ca5",
   "metadata": {},
   "outputs": [],
   "source": [
    "def display_history_mb():\n",
    "    # display.clear()\n",
    "    if len(history) < 5:\n",
    "        for row in history:\n",
    "            line = \"\"\n",
    "            for cell in row:\n",
    "                line = line + str(cell)\n",
    "            print(line)\n",
    "    else:\n",
    "        for row in history[-5:]:\n",
    "            line = \"\"\n",
    "            for cell in row:\n",
    "                line = line + str(cell)\n",
    "            print(line)"
   ]
  },
  {
   "cell_type": "code",
   "execution_count": 101,
   "id": "3e4dadf9-7f67-4e7c-bee1-a859914ef717",
   "metadata": {},
   "outputs": [
    {
     "name": "stdout",
     "output_type": "stream",
     "text": [
      "00001\n"
     ]
    }
   ],
   "source": [
    "display_history_mb()"
   ]
  },
  {
   "cell_type": "code",
   "execution_count": 102,
   "id": "fb06f223-8402-4591-8982-7d1d675389f6",
   "metadata": {},
   "outputs": [
    {
     "name": "stdout",
     "output_type": "stream",
     "text": [
      "....x\n",
      "...xx\n",
      "-\n",
      "....x\n",
      "...xx\n",
      "..xxx\n",
      "-\n",
      "....x\n",
      "...xx\n",
      "..xxx\n",
      ".xx.x\n",
      "-\n",
      "....x\n",
      "...xx\n",
      "..xxx\n",
      ".xx.x\n",
      "xxxxx\n",
      "-\n",
      "....x\n",
      "...xx\n",
      "..xxx\n",
      ".xx.x\n",
      "xxxxx\n",
      "x...x\n",
      "-\n"
     ]
    }
   ],
   "source": [
    "for i in range(5):\n",
    "    next_state()\n",
    "    display_history()\n",
    "    print(\"-\")"
   ]
  },
  {
   "cell_type": "markdown",
   "id": "5d9aaaad-fd38-493a-aa37-fb06671df5b5",
   "metadata": {},
   "source": [
    "Voor het gebruik van "
   ]
  },
  {
   "cell_type": "code",
   "execution_count": 138,
   "id": "d9b4cf0d-ac08-4a60-970b-16447e9f9d86",
   "metadata": {},
   "outputs": [],
   "source": [
    "def inc_state():\n",
    "    statenr = 0\n",
    "    for cell in state:\n",
    "        statenr = statenr * 2 + cell\n",
    "    statenr = statenr + 1\n",
    "    for i in range(size):\n",
    "        state[-i-1] = statenr % 2\n",
    "        statenr = statenr // 2"
   ]
  },
  {
   "cell_type": "code",
   "execution_count": 139,
   "id": "f773f811-3d53-45cb-b0ff-7022c1eba907",
   "metadata": {},
   "outputs": [
    {
     "name": "stdout",
     "output_type": "stream",
     "text": [
      "[0, 0, 1, 0, 1]\n",
      "[0, 0, 0, 0, 0]\n"
     ]
    }
   ],
   "source": [
    "print(state)\n",
    "state = [0, 0, 0, 0, 0]\n",
    "print(state)"
   ]
  },
  {
   "cell_type": "code",
   "execution_count": 141,
   "id": "16736c7c-5d99-4a11-b65d-bda0a1bcc6f6",
   "metadata": {},
   "outputs": [
    {
     "name": "stdout",
     "output_type": "stream",
     "text": [
      "[0, 0, 0, 1, 0]\n"
     ]
    }
   ],
   "source": [
    "inc_state()\n",
    "print(state)"
   ]
  },
  {
   "cell_type": "markdown",
   "id": "772bf34a-a622-4b63-8d97-43243121a3cc",
   "metadata": {},
   "source": []
  }
 ],
 "metadata": {
  "kernelspec": {
   "display_name": "Python 3 (ipykernel)",
   "language": "python",
   "name": "python3"
  },
  "language_info": {
   "codemirror_mode": {
    "name": "ipython",
    "version": 3
   },
   "file_extension": ".py",
   "mimetype": "text/x-python",
   "name": "python",
   "nbconvert_exporter": "python",
   "pygments_lexer": "ipython3",
   "version": "3.10.4"
  }
 },
 "nbformat": 4,
 "nbformat_minor": 5
}
