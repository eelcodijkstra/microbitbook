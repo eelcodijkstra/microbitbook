{
 "cells": [
  {
   "cell_type": "markdown",
   "id": "bf678be2-c638-4670-98a5-b86be2f21e3f",
   "metadata": {},
   "source": [
    "# Cellulaire automaat in Python\n",
    "\n",
    "Deze versie is bedoeld voor de microbit; maar we kunnen ook een versie maken voor Jupyter Notebook cq. Jupyter Book.\n",
    "\n",
    "(Voor de JB versie is het netter cq. handiger om een groter veld te gebruiken. (Eigenlijk heeft alleen de huidige generatie daar betekenis; maar we kunnen wel een (beperkte) geschiedenis bijhouden; kunnen we daar het display van afleiden?) In de onderstaande versie moeten we de grootte van het veld instelbaar maken.\n",
    "\n",
    "(Wat hebben we nodig voor de grens-cellen? - we kunnen daar ook een functie van maken: dan kunnen we altijd nog kiezen of we \"rond willen tellen\", of met een 0-grens werken; of zelfs met een 1-grens...)"
   ]
  },
  {
   "cell_type": "code",
   "execution_count": 32,
   "id": "1015cc12-7496-403d-9938-f5241c5ee5e3",
   "metadata": {},
   "outputs": [],
   "source": [
    "import random\n",
    "from typing import List\n",
    "\n",
    "rule = [0, 0, 0, 0, 0, 0, 0, 0]  # rule represented as 8 bits\n",
    "\n",
    "size = 10     # number of cells in a state\n",
    "state = []    # a list of cells\n",
    "history = []  # a list of states\n",
    "\n",
    "# create a new cellular automaton\n",
    "# nr_cells: number of cells\n",
    "# ones:     positions of living cells\n",
    "def create_state(nr_cells: int, ones: List[ int ]) -> None:\n",
    "    global size, state, history\n",
    "    size = nr_cells\n",
    "    state = []\n",
    "    for i in range(size):\n",
    "        if i in ones:\n",
    "            state.append(1)\n",
    "        else:\n",
    "            state.append(0)\n",
    "    history = [state]\n",
    "\n",
    "# set rule-list from rule-number\n",
    "def set_rule(rulenr: int) -> None:\n",
    "    global rule\n",
    "    for r in range(8):\n",
    "        rule[r] = rulenr % 2\n",
    "        rulenr = rulenr // 2\n",
    "\n",
    "# cell-value in current state,\n",
    "# with border-cells with value 0\n",
    "def cell(i: int) -> int:\n",
    "    if i < 0 or i >= len(state):\n",
    "        return 0\n",
    "    else:\n",
    "        return state[i]\n",
    "\n",
    "# compute next state\n",
    "# and add to history\n",
    "def step_state() -> None:\n",
    "    global state, history\n",
    "    next_state = []\n",
    "    for i in range(size):\n",
    "        cell_state = cell(i-1) * 4 + cell(i) * 2 + cell(i+1)\n",
    "        next_state.append(rule[cell_state]) \n",
    "    state = next_state\n",
    "    history.append(state)"
   ]
  },
  {
   "cell_type": "code",
   "execution_count": 36,
   "id": "9467c5e9-e825-471c-b051-d20fbdadb11e",
   "metadata": {},
   "outputs": [],
   "source": [
    "def display_history() -> None:\n",
    "    for row in history:\n",
    "        line = \"\"\n",
    "        for x in row:\n",
    "            line = line + str(x)     \n",
    "        print(line)         "
   ]
  },
  {
   "cell_type": "code",
   "execution_count": 37,
   "id": "164c353e-a650-4e7c-85d8-60f1188cb256",
   "metadata": {},
   "outputs": [],
   "source": [
    "create_state(40, [20,35])\n",
    "set_rule(110)\n",
    "# new_seed()\n"
   ]
  },
  {
   "cell_type": "code",
   "execution_count": 38,
   "id": "dfc08bfb-58ee-4864-8ace-fec4688a312a",
   "metadata": {},
   "outputs": [
    {
     "name": "stdout",
     "output_type": "stream",
     "text": [
      "0000000000000000000010000000000000010000\n"
     ]
    }
   ],
   "source": [
    "display_history()"
   ]
  },
  {
   "cell_type": "code",
   "execution_count": 39,
   "id": "d9ed4293-653f-458e-a68b-d5adaf1e13de",
   "metadata": {},
   "outputs": [
    {
     "name": "stdout",
     "output_type": "stream",
     "text": [
      "[0, 1, 1, 1, 0, 1, 1, 0]\n"
     ]
    }
   ],
   "source": [
    "print(rule)"
   ]
  },
  {
   "cell_type": "code",
   "execution_count": 40,
   "id": "261f2d02-930b-455b-abf2-8b64c97c6829",
   "metadata": {},
   "outputs": [
    {
     "name": "stdout",
     "output_type": "stream",
     "text": [
      "0000000000000000000010000000000000010000\n",
      "0000000000000000000110000000000000110000\n"
     ]
    }
   ],
   "source": [
    "step_state()\n",
    "display_history()"
   ]
  },
  {
   "cell_type": "code",
   "execution_count": 41,
   "id": "75ebc94d-afda-4736-9448-1767d87cbfc1",
   "metadata": {},
   "outputs": [
    {
     "name": "stdout",
     "output_type": "stream",
     "text": [
      "0000000000000000000010000000000000010000\n",
      "0000000000000000000110000000000000110000\n",
      "0000000000000000001110000000000001110000\n",
      "0000000000000000011010000000000011010000\n",
      "0000000000000000111110000000000111110000\n",
      "0000000000000001100010000000001100010000\n",
      "0000000000000011100110000000011100110000\n",
      "0000000000000110101110000000110101110000\n",
      "0000000000001111111010000001111111010000\n",
      "0000000000011000001110000011000001110000\n",
      "0000000000111000011010000111000011010000\n",
      "0000000001101000111110001101000111110000\n",
      "0000000011111001100010011111001100010000\n",
      "0000000110001011100110110001011100110000\n",
      "0000001110011110101111110011110101110000\n",
      "0000011010110011111000010110011111010000\n",
      "0000111111110110001000111110110001110000\n",
      "0001100000011110011001100011110011010000\n",
      "0011100000110010111011100110010111110000\n",
      "0110100001110111101110101110111100010000\n",
      "1111100011011100111011111011100100110000\n",
      "1000100111110101101110001110101101110000\n"
     ]
    }
   ],
   "source": [
    "for i in range(20):\n",
    "    step_state()\n",
    "display_history()    "
   ]
  },
  {
   "cell_type": "markdown",
   "id": "ee4b0bac-5fc9-44df-9884-6ada5d01c541",
   "metadata": {},
   "source": [
    "Hoe passen we dit aan voor de microbit?\n",
    "\n",
    "* bij het maken van de automaat beperken we ons tot size = 5.\n",
    "* we tonen op het display alleen de laatste 5 generaties\n",
    "* we hoeven dan in de history ook niet meer dan 5 generaties op te slaan.\n",
    "    * (dat spaart op de microbit weer wat schaars geheugen)\n",
    "    * (eigenlijk moeten we dan wel zo nu en dan garbage collection doen?)\n",
    "\n",
    "Voor het zetten van de initiële toestand kunnen we knop B gebruiken als een binaire teller. (Zie andere opdrachten.)\n"
   ]
  },
  {
   "cell_type": "code",
   "execution_count": 24,
   "id": "bcf46437-9767-425f-b490-de3af96360da",
   "metadata": {},
   "outputs": [],
   "source": [
    "create_state(5, [4])\n",
    "set_rule(110)"
   ]
  },
  {
   "cell_type": "code",
   "execution_count": 25,
   "id": "13600562-1450-4ada-8c0f-82953ac61ca5",
   "metadata": {},
   "outputs": [],
   "source": [
    "def display_history_mb():\n",
    "    # display.clear()\n",
    "    if len(history) < 5:\n",
    "        for row in history:\n",
    "            line = \"\"\n",
    "            for cell in row:\n",
    "                line = line + str(cell)\n",
    "            print(line)\n",
    "    else:\n",
    "        for row in history[-5:]:\n",
    "            line = \"\"\n",
    "            for cell in row:\n",
    "                line = line + str(cell)\n",
    "            print(line)"
   ]
  },
  {
   "cell_type": "markdown",
   "id": "fd67d240-d9ec-4901-86c0-766b858d4ed1",
   "metadata": {},
   "source": [
    "In plaats van `print(line)` wordt dit:\n",
    "\n",
    "```Python\n",
    "for colnr in range(5):\n",
    "    display.set_pixel(rownr, colnr, cell * 9)\n",
    "rownr = rownr + 1    \n",
    "```\n",
    "\n",
    "Bovendien hoeven we niet de hele historie te onthouden.\n",
    "In plaats van history.append(state) krijgen we dan:\n",
    "\n",
    "```Python\n",
    "   history.append(state)\n",
    "   if len(history) > 5:\n",
    "       history.pop(0)\n",
    "```"
   ]
  },
  {
   "cell_type": "code",
   "execution_count": 26,
   "id": "3e4dadf9-7f67-4e7c-bee1-a859914ef717",
   "metadata": {},
   "outputs": [
    {
     "name": "stdout",
     "output_type": "stream",
     "text": [
      "00001\n"
     ]
    }
   ],
   "source": [
    "display_history_mb()"
   ]
  },
  {
   "cell_type": "code",
   "execution_count": 31,
   "id": "fb06f223-8402-4591-8982-7d1d675389f6",
   "metadata": {},
   "outputs": [
    {
     "name": "stdout",
     "output_type": "stream",
     "text": [
      "..xxx\n",
      ".xx.x\n",
      "xxxxx\n",
      "x...x\n",
      "...xx\n",
      "-\n",
      ".xx.x\n",
      "xxxxx\n",
      "x...x\n",
      "...xx\n",
      "..xxx\n",
      "-\n",
      "xxxxx\n",
      "x...x\n",
      "...xx\n",
      "..xxx\n",
      ".xx.x\n",
      "-\n",
      "x...x\n",
      "...xx\n",
      "..xxx\n",
      ".xx.x\n",
      "xxxxx\n",
      "-\n",
      "...xx\n",
      "..xxx\n",
      ".xx.x\n",
      "xxxxx\n",
      "x...x\n",
      "-\n"
     ]
    }
   ],
   "source": [
    "for i in range(5):\n",
    "    step_state()\n",
    "    if len(history) > 5:\n",
    "       history.pop(0)\n",
    "    display_history()\n",
    "    print(\"-\")"
   ]
  },
  {
   "cell_type": "markdown",
   "id": "5d9aaaad-fd38-493a-aa37-fb06671df5b5",
   "metadata": {},
   "source": [
    "Voor het gebruik van "
   ]
  },
  {
   "cell_type": "code",
   "execution_count": 28,
   "id": "d9b4cf0d-ac08-4a60-970b-16447e9f9d86",
   "metadata": {},
   "outputs": [],
   "source": [
    "def inc_state():\n",
    "    statenr = 0\n",
    "    for cell in state:\n",
    "        statenr = statenr * 2 + cell\n",
    "    statenr = statenr + 1\n",
    "    for i in range(size):\n",
    "        state[-i-1] = statenr % 2\n",
    "        statenr = statenr // 2"
   ]
  },
  {
   "cell_type": "code",
   "execution_count": 29,
   "id": "f773f811-3d53-45cb-b0ff-7022c1eba907",
   "metadata": {},
   "outputs": [
    {
     "name": "stdout",
     "output_type": "stream",
     "text": [
      "[1, 0, 0, 0, 1]\n",
      "[0, 0, 0, 0, 0]\n"
     ]
    }
   ],
   "source": [
    "print(state)\n",
    "state = [0, 0, 0, 0, 0]\n",
    "print(state)"
   ]
  },
  {
   "cell_type": "code",
   "execution_count": 30,
   "id": "16736c7c-5d99-4a11-b65d-bda0a1bcc6f6",
   "metadata": {},
   "outputs": [
    {
     "name": "stdout",
     "output_type": "stream",
     "text": [
      "[0, 0, 0, 0, 1]\n"
     ]
    }
   ],
   "source": [
    "inc_state()\n",
    "print(state)"
   ]
  },
  {
   "cell_type": "markdown",
   "id": "772bf34a-a622-4b63-8d97-43243121a3cc",
   "metadata": {},
   "source": [
    "De constructie om een list (array)-waarde te maken `size` 0-en kun je in Python ook als volgt schrijven:\n",
    "\n",
    "```Python\n",
    "[0 for i in range(size)]\n",
    "```\n",
    "\n",
    "Dit is een voorbeeld van *list comprehension*."
   ]
  },
  {
   "cell_type": "code",
   "execution_count": 15,
   "id": "6232d524-fb09-4f2e-847e-4e64e1aa253f",
   "metadata": {},
   "outputs": [
    {
     "data": {
      "text/plain": [
       "[0, 0, 0, 0, 0]"
      ]
     },
     "execution_count": 15,
     "metadata": {},
     "output_type": "execute_result"
    }
   ],
   "source": [
    "[0 for i in range(size)]"
   ]
  },
  {
   "cell_type": "markdown",
   "id": "1c819c16-b23d-440e-8de3-aadf67fe943f",
   "metadata": {},
   "source": []
  }
 ],
 "metadata": {
  "kernelspec": {
   "display_name": "Python 3 (ipykernel)",
   "language": "python",
   "name": "python3"
  },
  "language_info": {
   "codemirror_mode": {
    "name": "ipython",
    "version": 3
   },
   "file_extension": ".py",
   "mimetype": "text/x-python",
   "name": "python",
   "nbconvert_exporter": "python",
   "pygments_lexer": "ipython3",
   "version": "3.10.4"
  }
 },
 "nbformat": 4,
 "nbformat_minor": 5
}
